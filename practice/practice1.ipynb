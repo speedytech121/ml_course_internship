{
 "cells": [
  {
   "cell_type": "code",
   "execution_count": 39,
   "metadata": {},
   "outputs": [],
   "source": [
    "import pandas as pd"
   ]
  },
  {
   "cell_type": "markdown",
   "metadata": {},
   "source": [
    "DATAFRAME::::a dataframe is a table. it contains an array of individual entries, each of which has a certain value. each entry correspongs to a row and a column"
   ]
  },
  {
   "cell_type": "code",
   "execution_count": 40,
   "metadata": {},
   "outputs": [
    {
     "data": {
      "text/html": [
       "<div>\n",
       "<style scoped>\n",
       "    .dataframe tbody tr th:only-of-type {\n",
       "        vertical-align: middle;\n",
       "    }\n",
       "\n",
       "    .dataframe tbody tr th {\n",
       "        vertical-align: top;\n",
       "    }\n",
       "\n",
       "    .dataframe thead th {\n",
       "        text-align: right;\n",
       "    }\n",
       "</style>\n",
       "<table border=\"1\" class=\"dataframe\">\n",
       "  <thead>\n",
       "    <tr style=\"text-align: right;\">\n",
       "      <th></th>\n",
       "      <th>name</th>\n",
       "      <th>age</th>\n",
       "    </tr>\n",
       "  </thead>\n",
       "  <tbody>\n",
       "    <tr>\n",
       "      <th>0</th>\n",
       "      <td>deepak</td>\n",
       "      <td>21</td>\n",
       "    </tr>\n",
       "    <tr>\n",
       "      <th>1</th>\n",
       "      <td>mayank</td>\n",
       "      <td>22</td>\n",
       "    </tr>\n",
       "  </tbody>\n",
       "</table>\n",
       "</div>"
      ],
      "text/plain": [
       "     name  age\n",
       "0  deepak   21\n",
       "1  mayank   22"
      ]
     },
     "execution_count": 40,
     "metadata": {},
     "output_type": "execute_result"
    }
   ],
   "source": [
    "pd.DataFrame({\"name\":['deepak','mayank'],\"age\":[21,22]})"
   ]
  },
  {
   "cell_type": "code",
   "execution_count": 41,
   "metadata": {},
   "outputs": [
    {
     "data": {
      "text/html": [
       "<div>\n",
       "<style scoped>\n",
       "    .dataframe tbody tr th:only-of-type {\n",
       "        vertical-align: middle;\n",
       "    }\n",
       "\n",
       "    .dataframe tbody tr th {\n",
       "        vertical-align: top;\n",
       "    }\n",
       "\n",
       "    .dataframe thead th {\n",
       "        text-align: right;\n",
       "    }\n",
       "</style>\n",
       "<table border=\"1\" class=\"dataframe\">\n",
       "  <thead>\n",
       "    <tr style=\"text-align: right;\">\n",
       "      <th></th>\n",
       "      <th>name</th>\n",
       "      <th>age</th>\n",
       "    </tr>\n",
       "  </thead>\n",
       "  <tbody>\n",
       "    <tr>\n",
       "      <th>0</th>\n",
       "      <td>deepak</td>\n",
       "      <td>21</td>\n",
       "    </tr>\n",
       "    <tr>\n",
       "      <th>1</th>\n",
       "      <td>mayank</td>\n",
       "      <td>22</td>\n",
       "    </tr>\n",
       "  </tbody>\n",
       "</table>\n",
       "</div>"
      ],
      "text/plain": [
       "     name  age\n",
       "0  deepak   21\n",
       "1  mayank   22"
      ]
     },
     "execution_count": 41,
     "metadata": {},
     "output_type": "execute_result"
    }
   ],
   "source": [
    "df=pd.DataFrame(pd.DataFrame({\"name\":['deepak','mayank'],\"age\":[21,22]}))\n",
    "df.head()"
   ]
  },
  {
   "cell_type": "code",
   "execution_count": 42,
   "metadata": {},
   "outputs": [],
   "source": [
    "dff=pd.DataFrame({'name':['deepak','raj'],\"age\":[21,22]})"
   ]
  },
  {
   "cell_type": "code",
   "execution_count": null,
   "metadata": {},
   "outputs": [],
   "source": []
  },
  {
   "cell_type": "code",
   "execution_count": 43,
   "metadata": {},
   "outputs": [
    {
     "data": {
      "text/html": [
       "<div>\n",
       "<style scoped>\n",
       "    .dataframe tbody tr th:only-of-type {\n",
       "        vertical-align: middle;\n",
       "    }\n",
       "\n",
       "    .dataframe tbody tr th {\n",
       "        vertical-align: top;\n",
       "    }\n",
       "\n",
       "    .dataframe thead th {\n",
       "        text-align: right;\n",
       "    }\n",
       "</style>\n",
       "<table border=\"1\" class=\"dataframe\">\n",
       "  <thead>\n",
       "    <tr style=\"text-align: right;\">\n",
       "      <th></th>\n",
       "      <th>name</th>\n",
       "      <th>age</th>\n",
       "    </tr>\n",
       "  </thead>\n",
       "  <tbody>\n",
       "    <tr>\n",
       "      <th>0</th>\n",
       "      <td>deepak</td>\n",
       "      <td>hello</td>\n",
       "    </tr>\n",
       "    <tr>\n",
       "      <th>1</th>\n",
       "      <td>raj</td>\n",
       "      <td>22</td>\n",
       "    </tr>\n",
       "  </tbody>\n",
       "</table>\n",
       "</div>"
      ],
      "text/plain": [
       "     name    age\n",
       "0  deepak  hello\n",
       "1     raj     22"
      ]
     },
     "execution_count": 43,
     "metadata": {},
     "output_type": "execute_result"
    }
   ],
   "source": [
    "dff[\"age\"]=dff[\"age\"].replace(21,'hello')\n",
    "dff\n"
   ]
  },
  {
   "cell_type": "code",
   "execution_count": 44,
   "metadata": {},
   "outputs": [],
   "source": [
    "df2=pd.DataFrame({'name':['deepak','gupta'],'age':[21,22]}, index=['name','age'])"
   ]
  },
  {
   "cell_type": "code",
   "execution_count": 45,
   "metadata": {},
   "outputs": [
    {
     "data": {
      "text/html": [
       "<div>\n",
       "<style scoped>\n",
       "    .dataframe tbody tr th:only-of-type {\n",
       "        vertical-align: middle;\n",
       "    }\n",
       "\n",
       "    .dataframe tbody tr th {\n",
       "        vertical-align: top;\n",
       "    }\n",
       "\n",
       "    .dataframe thead th {\n",
       "        text-align: right;\n",
       "    }\n",
       "</style>\n",
       "<table border=\"1\" class=\"dataframe\">\n",
       "  <thead>\n",
       "    <tr style=\"text-align: right;\">\n",
       "      <th></th>\n",
       "      <th>name</th>\n",
       "      <th>age</th>\n",
       "    </tr>\n",
       "  </thead>\n",
       "  <tbody>\n",
       "    <tr>\n",
       "      <th>name</th>\n",
       "      <td>deepak</td>\n",
       "      <td>21</td>\n",
       "    </tr>\n",
       "    <tr>\n",
       "      <th>age</th>\n",
       "      <td>gupta</td>\n",
       "      <td>22</td>\n",
       "    </tr>\n",
       "  </tbody>\n",
       "</table>\n",
       "</div>"
      ],
      "text/plain": [
       "        name  age\n",
       "name  deepak   21\n",
       "age    gupta   22"
      ]
     },
     "execution_count": 45,
     "metadata": {},
     "output_type": "execute_result"
    }
   ],
   "source": [
    "df2"
   ]
  },
  {
   "cell_type": "markdown",
   "metadata": {},
   "source": [
    "SERIES:: a series by contrast is a sequence of data values. if a dataframe is a table, a series is a list.and infact you can create one with nothing more than a list"
   ]
  },
  {
   "cell_type": "code",
   "execution_count": 47,
   "metadata": {},
   "outputs": [
    {
     "data": {
      "text/plain": [
       "0    1\n",
       "1    2\n",
       "2    3\n",
       "3    4\n",
       "dtype: int64"
      ]
     },
     "execution_count": 47,
     "metadata": {},
     "output_type": "execute_result"
    }
   ],
   "source": [
    "pd.Series([1,2,3,4])"
   ]
  },
  {
   "cell_type": "code",
   "execution_count": 53,
   "metadata": {},
   "outputs": [
    {
     "name": "stdout",
     "output_type": "stream",
     "text": [
      "count is 2\n"
     ]
    },
    {
     "data": {
      "text/plain": [
       "0     deepak\n",
       "1    deepali\n",
       "dtype: object"
      ]
     },
     "execution_count": 53,
     "metadata": {},
     "output_type": "execute_result"
    }
   ],
   "source": [
    "import random\n",
    "val=['deepak','deepali','mayank']\n",
    "val1=[]\n",
    "count=0\n",
    "for i in range(len(val)):\n",
    "    if('d' in val[i]):\n",
    "        count+=1\n",
    "        val1.append(val[i])\n",
    "print(\"count is\",count)\n",
    "pd.Series(val1)"
   ]
  },
  {
   "cell_type": "code",
   "execution_count": 55,
   "metadata": {},
   "outputs": [
    {
     "data": {
      "text/html": [
       "<div>\n",
       "<style scoped>\n",
       "    .dataframe tbody tr th:only-of-type {\n",
       "        vertical-align: middle;\n",
       "    }\n",
       "\n",
       "    .dataframe tbody tr th {\n",
       "        vertical-align: top;\n",
       "    }\n",
       "\n",
       "    .dataframe thead th {\n",
       "        text-align: right;\n",
       "    }\n",
       "</style>\n",
       "<table border=\"1\" class=\"dataframe\">\n",
       "  <thead>\n",
       "    <tr style=\"text-align: right;\">\n",
       "      <th></th>\n",
       "      <th>Add Tail</th>\n",
       "      <th>Description</th>\n",
       "      <th>Intro</th>\n",
       "      <th>Title</th>\n",
       "      <th>Time</th>\n",
       "      <th>Year</th>\n",
       "      <th>Minutes Left</th>\n",
       "      <th>Seconds Left</th>\n",
       "      <th>Position X</th>\n",
       "      <th>Position Y</th>\n",
       "    </tr>\n",
       "  </thead>\n",
       "  <tbody>\n",
       "    <tr>\n",
       "      <th>0</th>\n",
       "      <td>Minutes</td>\n",
       "      <td>The Bulletin of the Atomic Scientists changes ...</td>\n",
       "      <td>The Doomsday Clock is a design that warns the ...</td>\n",
       "      <td>The Clock Starts Running</td>\n",
       "      <td>30-12-1899 23:53:00</td>\n",
       "      <td>1947</td>\n",
       "      <td>7.0</td>\n",
       "      <td>420</td>\n",
       "      <td>468.50036</td>\n",
       "      <td>520.10327</td>\n",
       "    </tr>\n",
       "    <tr>\n",
       "      <th>1</th>\n",
       "      <td>Minutes</td>\n",
       "      <td>In the fall, at a remote site in Central Asia,...</td>\n",
       "      <td>NaN</td>\n",
       "      <td>The Arms Race is On</td>\n",
       "      <td>30-12-1899 23:57:00</td>\n",
       "      <td>1949</td>\n",
       "      <td>3.0</td>\n",
       "      <td>180</td>\n",
       "      <td>216.31190</td>\n",
       "      <td>665.73956</td>\n",
       "    </tr>\n",
       "    <tr>\n",
       "      <th>2</th>\n",
       "      <td>Minutes</td>\n",
       "      <td>Over the opposition of many nuclear scientists...</td>\n",
       "      <td>NaN</td>\n",
       "      <td>The Horror of Hydrogen</td>\n",
       "      <td>30-12-1899 23:58:00</td>\n",
       "      <td>1953</td>\n",
       "      <td>2.0</td>\n",
       "      <td>120</td>\n",
       "      <td>145.39478</td>\n",
       "      <td>684.73379</td>\n",
       "    </tr>\n",
       "    <tr>\n",
       "      <th>3</th>\n",
       "      <td>Minutes</td>\n",
       "      <td>Political actions belied the superpowers’ toug...</td>\n",
       "      <td>NaN</td>\n",
       "      <td>Cooperation, not Confrontation</td>\n",
       "      <td>30-12-1899 23:53:00</td>\n",
       "      <td>1960</td>\n",
       "      <td>7.0</td>\n",
       "      <td>420</td>\n",
       "      <td>468.50036</td>\n",
       "      <td>520.10327</td>\n",
       "    </tr>\n",
       "    <tr>\n",
       "      <th>4</th>\n",
       "      <td>Minutes</td>\n",
       "      <td>Within 10 days, the most acute crisis of the C...</td>\n",
       "      <td>NaN</td>\n",
       "      <td>A Close Call, but off the Clock</td>\n",
       "      <td>30-12-1899 23:53:00</td>\n",
       "      <td>1962</td>\n",
       "      <td>7.0</td>\n",
       "      <td>420</td>\n",
       "      <td>468.50036</td>\n",
       "      <td>520.10327</td>\n",
       "    </tr>\n",
       "  </tbody>\n",
       "</table>\n",
       "</div>"
      ],
      "text/plain": [
       "  Add Tail                                        Description  \\\n",
       "0  Minutes  The Bulletin of the Atomic Scientists changes ...   \n",
       "1  Minutes  In the fall, at a remote site in Central Asia,...   \n",
       "2  Minutes  Over the opposition of many nuclear scientists...   \n",
       "3  Minutes  Political actions belied the superpowers’ toug...   \n",
       "4  Minutes  Within 10 days, the most acute crisis of the C...   \n",
       "\n",
       "                                               Intro  \\\n",
       "0  The Doomsday Clock is a design that warns the ...   \n",
       "1                                                NaN   \n",
       "2                                                NaN   \n",
       "3                                                NaN   \n",
       "4                                                NaN   \n",
       "\n",
       "                             Title                 Time  Year  Minutes Left  \\\n",
       "0         The Clock Starts Running  30-12-1899 23:53:00  1947           7.0   \n",
       "1              The Arms Race is On  30-12-1899 23:57:00  1949           3.0   \n",
       "2           The Horror of Hydrogen  30-12-1899 23:58:00  1953           2.0   \n",
       "3   Cooperation, not Confrontation  30-12-1899 23:53:00  1960           7.0   \n",
       "4  A Close Call, but off the Clock  30-12-1899 23:53:00  1962           7.0   \n",
       "\n",
       "   Seconds Left  Position X  Position Y  \n",
       "0           420   468.50036   520.10327  \n",
       "1           180   216.31190   665.73956  \n",
       "2           120   145.39478   684.73379  \n",
       "3           420   468.50036   520.10327  \n",
       "4           420   468.50036   520.10327  "
      ]
     },
     "execution_count": 55,
     "metadata": {},
     "output_type": "execute_result"
    }
   ],
   "source": [
    "df3=pd.read_csv(\"../practice/doom.csv\")\n",
    "df3.head()"
   ]
  },
  {
   "cell_type": "code",
   "execution_count": null,
   "metadata": {},
   "outputs": [],
   "source": []
  }
 ],
 "metadata": {
  "interpreter": {
   "hash": "1c69672af78ae9d0d0209691da61dd9b4ae0648c2322e90a6e9f16d450e75d9d"
  },
  "kernelspec": {
   "display_name": "Python 3.9.9 64-bit ('digi1': conda)",
   "language": "python",
   "name": "python3"
  },
  "language_info": {
   "codemirror_mode": {
    "name": "ipython",
    "version": 3
   },
   "file_extension": ".py",
   "mimetype": "text/x-python",
   "name": "python",
   "nbconvert_exporter": "python",
   "pygments_lexer": "ipython3",
   "version": "3.9.9"
  },
  "orig_nbformat": 4
 },
 "nbformat": 4,
 "nbformat_minor": 2
}
