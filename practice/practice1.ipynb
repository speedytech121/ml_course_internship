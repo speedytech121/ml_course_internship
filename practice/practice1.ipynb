{
 "cells": [
  {
   "cell_type": "code",
   "execution_count": 5,
   "metadata": {},
   "outputs": [],
   "source": [
    "import pandas as pd"
   ]
  },
  {
   "cell_type": "code",
   "execution_count": 6,
   "metadata": {},
   "outputs": [],
   "source": [
    "df=pd.read_csv('../practice/sample1.csv')"
   ]
  },
  {
   "cell_type": "code",
   "execution_count": 7,
   "metadata": {},
   "outputs": [
    {
     "data": {
      "text/html": [
       "<div>\n",
       "<style scoped>\n",
       "    .dataframe tbody tr th:only-of-type {\n",
       "        vertical-align: middle;\n",
       "    }\n",
       "\n",
       "    .dataframe tbody tr th {\n",
       "        vertical-align: top;\n",
       "    }\n",
       "\n",
       "    .dataframe thead th {\n",
       "        text-align: right;\n",
       "    }\n",
       "</style>\n",
       "<table border=\"1\" class=\"dataframe\">\n",
       "  <thead>\n",
       "    <tr style=\"text-align: right;\">\n",
       "      <th></th>\n",
       "      <th>sno</th>\n",
       "      <th>name</th>\n",
       "      <th>age</th>\n",
       "      <th>salary</th>\n",
       "      <th>designation</th>\n",
       "      <th>mobile</th>\n",
       "    </tr>\n",
       "  </thead>\n",
       "  <tbody>\n",
       "    <tr>\n",
       "      <th>0</th>\n",
       "      <td>1</td>\n",
       "      <td>shabeeh abaas</td>\n",
       "      <td>23.0</td>\n",
       "      <td>$20,000</td>\n",
       "      <td>manager</td>\n",
       "      <td>9.140098e+09</td>\n",
       "    </tr>\n",
       "    <tr>\n",
       "      <th>1</th>\n",
       "      <td>2</td>\n",
       "      <td>kashish agrawal</td>\n",
       "      <td>21.0</td>\n",
       "      <td>$23,000</td>\n",
       "      <td>manager</td>\n",
       "      <td>3.242343e+08</td>\n",
       "    </tr>\n",
       "    <tr>\n",
       "      <th>2</th>\n",
       "      <td>3</td>\n",
       "      <td>nisha shukla</td>\n",
       "      <td>22.0</td>\n",
       "      <td>$32,000</td>\n",
       "      <td>region manager</td>\n",
       "      <td>2.903482e+09</td>\n",
       "    </tr>\n",
       "    <tr>\n",
       "      <th>3</th>\n",
       "      <td>4</td>\n",
       "      <td>kriti rajput</td>\n",
       "      <td>22.0</td>\n",
       "      <td>$3,333</td>\n",
       "      <td>NaN</td>\n",
       "      <td>NaN</td>\n",
       "    </tr>\n",
       "    <tr>\n",
       "      <th>4</th>\n",
       "      <td>5</td>\n",
       "      <td>deepak gupta</td>\n",
       "      <td>23.0</td>\n",
       "      <td>$33,000</td>\n",
       "      <td>manager</td>\n",
       "      <td>2.343243e+08</td>\n",
       "    </tr>\n",
       "  </tbody>\n",
       "</table>\n",
       "</div>"
      ],
      "text/plain": [
       "   sno             name   age   salary     designation        mobile\n",
       "0    1    shabeeh abaas  23.0  $20,000         manager  9.140098e+09\n",
       "1    2  kashish agrawal  21.0  $23,000        manager   3.242343e+08\n",
       "2    3     nisha shukla  22.0  $32,000  region manager  2.903482e+09\n",
       "3    4     kriti rajput  22.0   $3,333             NaN           NaN\n",
       "4    5     deepak gupta  23.0  $33,000         manager  2.343243e+08"
      ]
     },
     "execution_count": 7,
     "metadata": {},
     "output_type": "execute_result"
    }
   ],
   "source": [
    "df.head()"
   ]
  },
  {
   "cell_type": "code",
   "execution_count": 9,
   "metadata": {},
   "outputs": [],
   "source": [
    "def salaryclean(salary):\n",
    "    if isinstance(salary,str):\n",
    "        salary=salary.strip()\n",
    "        if '$' in salary:\n",
    "            salary=salary.replace('$','')\n",
    "        if ',' in salary:\n",
    "            salary=salary.replace(',','')\n",
    "        salary=int(salary)\n",
    "    return salary"
   ]
  },
  {
   "cell_type": "code",
   "execution_count": 11,
   "metadata": {},
   "outputs": [
    {
     "data": {
      "text/plain": [
       "0    20000.0\n",
       "1    23000.0\n",
       "2    32000.0\n",
       "3     3333.0\n",
       "4    33000.0\n",
       "5        NaN\n",
       "6    23333.0\n",
       "7     3333.0\n",
       "Name: salary, dtype: float64"
      ]
     },
     "execution_count": 11,
     "metadata": {},
     "output_type": "execute_result"
    }
   ],
   "source": [
    "#test run for data cleaning\n",
    "df['salary'].apply(salaryclean)"
   ]
  },
  {
   "cell_type": "code",
   "execution_count": 14,
   "metadata": {},
   "outputs": [
    {
     "data": {
      "text/html": [
       "<div>\n",
       "<style scoped>\n",
       "    .dataframe tbody tr th:only-of-type {\n",
       "        vertical-align: middle;\n",
       "    }\n",
       "\n",
       "    .dataframe tbody tr th {\n",
       "        vertical-align: top;\n",
       "    }\n",
       "\n",
       "    .dataframe thead th {\n",
       "        text-align: right;\n",
       "    }\n",
       "</style>\n",
       "<table border=\"1\" class=\"dataframe\">\n",
       "  <thead>\n",
       "    <tr style=\"text-align: right;\">\n",
       "      <th></th>\n",
       "      <th>sno</th>\n",
       "      <th>name</th>\n",
       "      <th>age</th>\n",
       "      <th>salary</th>\n",
       "      <th>designation</th>\n",
       "      <th>mobile</th>\n",
       "    </tr>\n",
       "  </thead>\n",
       "  <tbody>\n",
       "    <tr>\n",
       "      <th>0</th>\n",
       "      <td>1</td>\n",
       "      <td>shabeeh abaas</td>\n",
       "      <td>23.0</td>\n",
       "      <td>20000.0</td>\n",
       "      <td>manager</td>\n",
       "      <td>9.140098e+09</td>\n",
       "    </tr>\n",
       "    <tr>\n",
       "      <th>1</th>\n",
       "      <td>2</td>\n",
       "      <td>kashish agrawal</td>\n",
       "      <td>21.0</td>\n",
       "      <td>23000.0</td>\n",
       "      <td>manager</td>\n",
       "      <td>3.242343e+08</td>\n",
       "    </tr>\n",
       "    <tr>\n",
       "      <th>2</th>\n",
       "      <td>3</td>\n",
       "      <td>nisha shukla</td>\n",
       "      <td>22.0</td>\n",
       "      <td>32000.0</td>\n",
       "      <td>region manager</td>\n",
       "      <td>2.903482e+09</td>\n",
       "    </tr>\n",
       "    <tr>\n",
       "      <th>3</th>\n",
       "      <td>4</td>\n",
       "      <td>kriti rajput</td>\n",
       "      <td>22.0</td>\n",
       "      <td>3333.0</td>\n",
       "      <td>NaN</td>\n",
       "      <td>NaN</td>\n",
       "    </tr>\n",
       "    <tr>\n",
       "      <th>4</th>\n",
       "      <td>5</td>\n",
       "      <td>deepak gupta</td>\n",
       "      <td>23.0</td>\n",
       "      <td>33000.0</td>\n",
       "      <td>manager</td>\n",
       "      <td>2.343243e+08</td>\n",
       "    </tr>\n",
       "    <tr>\n",
       "      <th>5</th>\n",
       "      <td>6</td>\n",
       "      <td>mayank singh</td>\n",
       "      <td>23.0</td>\n",
       "      <td>NaN</td>\n",
       "      <td>region manager</td>\n",
       "      <td>2.334243e+08</td>\n",
       "    </tr>\n",
       "    <tr>\n",
       "      <th>6</th>\n",
       "      <td>7</td>\n",
       "      <td>aditya sagar</td>\n",
       "      <td>NaN</td>\n",
       "      <td>23333.0</td>\n",
       "      <td>manager</td>\n",
       "      <td>2.342423e+09</td>\n",
       "    </tr>\n",
       "    <tr>\n",
       "      <th>7</th>\n",
       "      <td>8</td>\n",
       "      <td>prashant</td>\n",
       "      <td>22.0</td>\n",
       "      <td>3333.0</td>\n",
       "      <td>director</td>\n",
       "      <td>2.324343e+07</td>\n",
       "    </tr>\n",
       "  </tbody>\n",
       "</table>\n",
       "</div>"
      ],
      "text/plain": [
       "   sno             name   age   salary     designation        mobile\n",
       "0    1    shabeeh abaas  23.0  20000.0         manager  9.140098e+09\n",
       "1    2  kashish agrawal  21.0  23000.0        manager   3.242343e+08\n",
       "2    3     nisha shukla  22.0  32000.0  region manager  2.903482e+09\n",
       "3    4     kriti rajput  22.0   3333.0             NaN           NaN\n",
       "4    5     deepak gupta  23.0  33000.0         manager  2.343243e+08\n",
       "5    6     mayank singh  23.0      NaN  region manager  2.334243e+08\n",
       "6    7     aditya sagar   NaN  23333.0         manager  2.342423e+09\n",
       "7    8         prashant  22.0   3333.0        director  2.324343e+07"
      ]
     },
     "execution_count": 14,
     "metadata": {},
     "output_type": "execute_result"
    }
   ],
   "source": [
    "#final apply\n",
    "df['salary']=df['salary'].apply(salaryclean)\n",
    "df"
   ]
  },
  {
   "cell_type": "code",
   "execution_count": 15,
   "metadata": {},
   "outputs": [
    {
     "data": {
      "text/html": [
       "<div>\n",
       "<style scoped>\n",
       "    .dataframe tbody tr th:only-of-type {\n",
       "        vertical-align: middle;\n",
       "    }\n",
       "\n",
       "    .dataframe tbody tr th {\n",
       "        vertical-align: top;\n",
       "    }\n",
       "\n",
       "    .dataframe thead th {\n",
       "        text-align: right;\n",
       "    }\n",
       "</style>\n",
       "<table border=\"1\" class=\"dataframe\">\n",
       "  <thead>\n",
       "    <tr style=\"text-align: right;\">\n",
       "      <th></th>\n",
       "      <th>age</th>\n",
       "      <th>salary</th>\n",
       "      <th>designation</th>\n",
       "    </tr>\n",
       "  </thead>\n",
       "  <tbody>\n",
       "    <tr>\n",
       "      <th>0</th>\n",
       "      <td>23.0</td>\n",
       "      <td>20000.0</td>\n",
       "      <td>manager</td>\n",
       "    </tr>\n",
       "    <tr>\n",
       "      <th>1</th>\n",
       "      <td>21.0</td>\n",
       "      <td>23000.0</td>\n",
       "      <td>manager</td>\n",
       "    </tr>\n",
       "    <tr>\n",
       "      <th>2</th>\n",
       "      <td>22.0</td>\n",
       "      <td>32000.0</td>\n",
       "      <td>region manager</td>\n",
       "    </tr>\n",
       "    <tr>\n",
       "      <th>3</th>\n",
       "      <td>22.0</td>\n",
       "      <td>3333.0</td>\n",
       "      <td>NaN</td>\n",
       "    </tr>\n",
       "    <tr>\n",
       "      <th>4</th>\n",
       "      <td>23.0</td>\n",
       "      <td>33000.0</td>\n",
       "      <td>manager</td>\n",
       "    </tr>\n",
       "    <tr>\n",
       "      <th>5</th>\n",
       "      <td>23.0</td>\n",
       "      <td>NaN</td>\n",
       "      <td>region manager</td>\n",
       "    </tr>\n",
       "    <tr>\n",
       "      <th>6</th>\n",
       "      <td>NaN</td>\n",
       "      <td>23333.0</td>\n",
       "      <td>manager</td>\n",
       "    </tr>\n",
       "    <tr>\n",
       "      <th>7</th>\n",
       "      <td>22.0</td>\n",
       "      <td>3333.0</td>\n",
       "      <td>director</td>\n",
       "    </tr>\n",
       "  </tbody>\n",
       "</table>\n",
       "</div>"
      ],
      "text/plain": [
       "    age   salary     designation\n",
       "0  23.0  20000.0         manager\n",
       "1  21.0  23000.0        manager \n",
       "2  22.0  32000.0  region manager\n",
       "3  22.0   3333.0             NaN\n",
       "4  23.0  33000.0         manager\n",
       "5  23.0      NaN  region manager\n",
       "6   NaN  23333.0         manager\n",
       "7  22.0   3333.0        director"
      ]
     },
     "execution_count": 15,
     "metadata": {},
     "output_type": "execute_result"
    }
   ],
   "source": [
    "# now removing inappropriate column like mobile\n",
    "df.drop(['mobile','sno','name'],axis=1,inplace=True)\n",
    "df"
   ]
  },
  {
   "cell_type": "code",
   "execution_count": 16,
   "metadata": {},
   "outputs": [],
   "source": [
    "#fill missing values by using scikit learn\n",
    "from sklearn.impute import SimpleImputer"
   ]
  },
  {
   "cell_type": "code",
   "execution_count": 17,
   "metadata": {},
   "outputs": [],
   "source": [
    "imputer=SimpleImputer()"
   ]
  },
  {
   "cell_type": "code",
   "execution_count": 18,
   "metadata": {},
   "outputs": [],
   "source": [
    "cols=[\"age\",\"salary\"]\n",
    "df[cols]=imputer.fit_transform(df[cols])"
   ]
  },
  {
   "cell_type": "code",
   "execution_count": 19,
   "metadata": {},
   "outputs": [
    {
     "data": {
      "text/html": [
       "<div>\n",
       "<style scoped>\n",
       "    .dataframe tbody tr th:only-of-type {\n",
       "        vertical-align: middle;\n",
       "    }\n",
       "\n",
       "    .dataframe tbody tr th {\n",
       "        vertical-align: top;\n",
       "    }\n",
       "\n",
       "    .dataframe thead th {\n",
       "        text-align: right;\n",
       "    }\n",
       "</style>\n",
       "<table border=\"1\" class=\"dataframe\">\n",
       "  <thead>\n",
       "    <tr style=\"text-align: right;\">\n",
       "      <th></th>\n",
       "      <th>age</th>\n",
       "      <th>salary</th>\n",
       "      <th>designation</th>\n",
       "    </tr>\n",
       "  </thead>\n",
       "  <tbody>\n",
       "    <tr>\n",
       "      <th>0</th>\n",
       "      <td>23.000000</td>\n",
       "      <td>20000.000000</td>\n",
       "      <td>manager</td>\n",
       "    </tr>\n",
       "    <tr>\n",
       "      <th>1</th>\n",
       "      <td>21.000000</td>\n",
       "      <td>23000.000000</td>\n",
       "      <td>manager</td>\n",
       "    </tr>\n",
       "    <tr>\n",
       "      <th>2</th>\n",
       "      <td>22.000000</td>\n",
       "      <td>32000.000000</td>\n",
       "      <td>region manager</td>\n",
       "    </tr>\n",
       "    <tr>\n",
       "      <th>3</th>\n",
       "      <td>22.000000</td>\n",
       "      <td>3333.000000</td>\n",
       "      <td>NaN</td>\n",
       "    </tr>\n",
       "    <tr>\n",
       "      <th>4</th>\n",
       "      <td>23.000000</td>\n",
       "      <td>33000.000000</td>\n",
       "      <td>manager</td>\n",
       "    </tr>\n",
       "    <tr>\n",
       "      <th>5</th>\n",
       "      <td>23.000000</td>\n",
       "      <td>19714.142857</td>\n",
       "      <td>region manager</td>\n",
       "    </tr>\n",
       "    <tr>\n",
       "      <th>6</th>\n",
       "      <td>22.285714</td>\n",
       "      <td>23333.000000</td>\n",
       "      <td>manager</td>\n",
       "    </tr>\n",
       "    <tr>\n",
       "      <th>7</th>\n",
       "      <td>22.000000</td>\n",
       "      <td>3333.000000</td>\n",
       "      <td>director</td>\n",
       "    </tr>\n",
       "  </tbody>\n",
       "</table>\n",
       "</div>"
      ],
      "text/plain": [
       "         age        salary     designation\n",
       "0  23.000000  20000.000000         manager\n",
       "1  21.000000  23000.000000        manager \n",
       "2  22.000000  32000.000000  region manager\n",
       "3  22.000000   3333.000000             NaN\n",
       "4  23.000000  33000.000000         manager\n",
       "5  23.000000  19714.142857  region manager\n",
       "6  22.285714  23333.000000         manager\n",
       "7  22.000000   3333.000000        director"
      ]
     },
     "execution_count": 19,
     "metadata": {},
     "output_type": "execute_result"
    }
   ],
   "source": [
    "df"
   ]
  },
  {
   "cell_type": "code",
   "execution_count": 21,
   "metadata": {},
   "outputs": [
    {
     "data": {
      "text/plain": [
       "2"
      ]
     },
     "execution_count": 21,
     "metadata": {},
     "output_type": "execute_result"
    }
   ],
   "source": [
    "df.ndim"
   ]
  },
  {
   "cell_type": "code",
   "execution_count": 22,
   "metadata": {},
   "outputs": [
    {
     "data": {
      "text/plain": [
       "manager           3\n",
       "region manager    2\n",
       "manager           1\n",
       "director          1\n",
       "Name: designation, dtype: int64"
      ]
     },
     "execution_count": 22,
     "metadata": {},
     "output_type": "execute_result"
    }
   ],
   "source": [
    "df['designation'].value_counts()"
   ]
  },
  {
   "cell_type": "code",
   "execution_count": 23,
   "metadata": {},
   "outputs": [
    {
     "data": {
      "text/html": [
       "<div>\n",
       "<style scoped>\n",
       "    .dataframe tbody tr th:only-of-type {\n",
       "        vertical-align: middle;\n",
       "    }\n",
       "\n",
       "    .dataframe tbody tr th {\n",
       "        vertical-align: top;\n",
       "    }\n",
       "\n",
       "    .dataframe thead th {\n",
       "        text-align: right;\n",
       "    }\n",
       "</style>\n",
       "<table border=\"1\" class=\"dataframe\">\n",
       "  <thead>\n",
       "    <tr style=\"text-align: right;\">\n",
       "      <th></th>\n",
       "      <th>age</th>\n",
       "      <th>salary</th>\n",
       "      <th>designation</th>\n",
       "    </tr>\n",
       "  </thead>\n",
       "  <tbody>\n",
       "    <tr>\n",
       "      <th>0</th>\n",
       "      <td>23.000000</td>\n",
       "      <td>20000.000000</td>\n",
       "      <td>manager</td>\n",
       "    </tr>\n",
       "    <tr>\n",
       "      <th>1</th>\n",
       "      <td>21.000000</td>\n",
       "      <td>23000.000000</td>\n",
       "      <td>manager</td>\n",
       "    </tr>\n",
       "    <tr>\n",
       "      <th>2</th>\n",
       "      <td>22.000000</td>\n",
       "      <td>32000.000000</td>\n",
       "      <td>region manager</td>\n",
       "    </tr>\n",
       "    <tr>\n",
       "      <th>3</th>\n",
       "      <td>22.000000</td>\n",
       "      <td>3333.000000</td>\n",
       "      <td>manager</td>\n",
       "    </tr>\n",
       "    <tr>\n",
       "      <th>4</th>\n",
       "      <td>23.000000</td>\n",
       "      <td>33000.000000</td>\n",
       "      <td>manager</td>\n",
       "    </tr>\n",
       "    <tr>\n",
       "      <th>5</th>\n",
       "      <td>23.000000</td>\n",
       "      <td>19714.142857</td>\n",
       "      <td>region manager</td>\n",
       "    </tr>\n",
       "    <tr>\n",
       "      <th>6</th>\n",
       "      <td>22.285714</td>\n",
       "      <td>23333.000000</td>\n",
       "      <td>manager</td>\n",
       "    </tr>\n",
       "    <tr>\n",
       "      <th>7</th>\n",
       "      <td>22.000000</td>\n",
       "      <td>3333.000000</td>\n",
       "      <td>director</td>\n",
       "    </tr>\n",
       "  </tbody>\n",
       "</table>\n",
       "</div>"
      ],
      "text/plain": [
       "         age        salary     designation\n",
       "0  23.000000  20000.000000         manager\n",
       "1  21.000000  23000.000000        manager \n",
       "2  22.000000  32000.000000  region manager\n",
       "3  22.000000   3333.000000         manager\n",
       "4  23.000000  33000.000000         manager\n",
       "5  23.000000  19714.142857  region manager\n",
       "6  22.285714  23333.000000         manager\n",
       "7  22.000000   3333.000000        director"
      ]
     },
     "execution_count": 23,
     "metadata": {},
     "output_type": "execute_result"
    }
   ],
   "source": [
    "imp2=SimpleImputer(strategy='most_frequent')\n",
    "df['designation']=imp2.fit_transform(df[['designation']])\n",
    "df"
   ]
  },
  {
   "cell_type": "code",
   "execution_count": 24,
   "metadata": {},
   "outputs": [],
   "source": [
    "#add column\n",
    "gender=['male','female']*4"
   ]
  },
  {
   "cell_type": "code",
   "execution_count": 25,
   "metadata": {},
   "outputs": [
    {
     "data": {
      "text/html": [
       "<div>\n",
       "<style scoped>\n",
       "    .dataframe tbody tr th:only-of-type {\n",
       "        vertical-align: middle;\n",
       "    }\n",
       "\n",
       "    .dataframe tbody tr th {\n",
       "        vertical-align: top;\n",
       "    }\n",
       "\n",
       "    .dataframe thead th {\n",
       "        text-align: right;\n",
       "    }\n",
       "</style>\n",
       "<table border=\"1\" class=\"dataframe\">\n",
       "  <thead>\n",
       "    <tr style=\"text-align: right;\">\n",
       "      <th></th>\n",
       "      <th>age</th>\n",
       "      <th>salary</th>\n",
       "      <th>designation</th>\n",
       "      <th>gender</th>\n",
       "    </tr>\n",
       "  </thead>\n",
       "  <tbody>\n",
       "    <tr>\n",
       "      <th>0</th>\n",
       "      <td>23.000000</td>\n",
       "      <td>20000.000000</td>\n",
       "      <td>manager</td>\n",
       "      <td>male</td>\n",
       "    </tr>\n",
       "    <tr>\n",
       "      <th>1</th>\n",
       "      <td>21.000000</td>\n",
       "      <td>23000.000000</td>\n",
       "      <td>manager</td>\n",
       "      <td>female</td>\n",
       "    </tr>\n",
       "    <tr>\n",
       "      <th>2</th>\n",
       "      <td>22.000000</td>\n",
       "      <td>32000.000000</td>\n",
       "      <td>region manager</td>\n",
       "      <td>male</td>\n",
       "    </tr>\n",
       "    <tr>\n",
       "      <th>3</th>\n",
       "      <td>22.000000</td>\n",
       "      <td>3333.000000</td>\n",
       "      <td>manager</td>\n",
       "      <td>female</td>\n",
       "    </tr>\n",
       "    <tr>\n",
       "      <th>4</th>\n",
       "      <td>23.000000</td>\n",
       "      <td>33000.000000</td>\n",
       "      <td>manager</td>\n",
       "      <td>male</td>\n",
       "    </tr>\n",
       "    <tr>\n",
       "      <th>5</th>\n",
       "      <td>23.000000</td>\n",
       "      <td>19714.142857</td>\n",
       "      <td>region manager</td>\n",
       "      <td>female</td>\n",
       "    </tr>\n",
       "    <tr>\n",
       "      <th>6</th>\n",
       "      <td>22.285714</td>\n",
       "      <td>23333.000000</td>\n",
       "      <td>manager</td>\n",
       "      <td>male</td>\n",
       "    </tr>\n",
       "    <tr>\n",
       "      <th>7</th>\n",
       "      <td>22.000000</td>\n",
       "      <td>3333.000000</td>\n",
       "      <td>director</td>\n",
       "      <td>female</td>\n",
       "    </tr>\n",
       "  </tbody>\n",
       "</table>\n",
       "</div>"
      ],
      "text/plain": [
       "         age        salary     designation  gender\n",
       "0  23.000000  20000.000000         manager    male\n",
       "1  21.000000  23000.000000        manager   female\n",
       "2  22.000000  32000.000000  region manager    male\n",
       "3  22.000000   3333.000000         manager  female\n",
       "4  23.000000  33000.000000         manager    male\n",
       "5  23.000000  19714.142857  region manager  female\n",
       "6  22.285714  23333.000000         manager    male\n",
       "7  22.000000   3333.000000        director  female"
      ]
     },
     "execution_count": 25,
     "metadata": {},
     "output_type": "execute_result"
    }
   ],
   "source": [
    "df['gender']=gender\n",
    "df"
   ]
  },
  {
   "cell_type": "code",
   "execution_count": 26,
   "metadata": {},
   "outputs": [
    {
     "data": {
      "text/html": [
       "<div>\n",
       "<style scoped>\n",
       "    .dataframe tbody tr th:only-of-type {\n",
       "        vertical-align: middle;\n",
       "    }\n",
       "\n",
       "    .dataframe tbody tr th {\n",
       "        vertical-align: top;\n",
       "    }\n",
       "\n",
       "    .dataframe thead th {\n",
       "        text-align: right;\n",
       "    }\n",
       "</style>\n",
       "<table border=\"1\" class=\"dataframe\">\n",
       "  <thead>\n",
       "    <tr style=\"text-align: right;\">\n",
       "      <th></th>\n",
       "      <th>age</th>\n",
       "      <th>pay</th>\n",
       "      <th>designation</th>\n",
       "      <th>gender</th>\n",
       "    </tr>\n",
       "  </thead>\n",
       "  <tbody>\n",
       "    <tr>\n",
       "      <th>0</th>\n",
       "      <td>23.000000</td>\n",
       "      <td>20000.000000</td>\n",
       "      <td>manager</td>\n",
       "      <td>male</td>\n",
       "    </tr>\n",
       "    <tr>\n",
       "      <th>1</th>\n",
       "      <td>21.000000</td>\n",
       "      <td>23000.000000</td>\n",
       "      <td>manager</td>\n",
       "      <td>female</td>\n",
       "    </tr>\n",
       "    <tr>\n",
       "      <th>2</th>\n",
       "      <td>22.000000</td>\n",
       "      <td>32000.000000</td>\n",
       "      <td>region manager</td>\n",
       "      <td>male</td>\n",
       "    </tr>\n",
       "    <tr>\n",
       "      <th>3</th>\n",
       "      <td>22.000000</td>\n",
       "      <td>3333.000000</td>\n",
       "      <td>manager</td>\n",
       "      <td>female</td>\n",
       "    </tr>\n",
       "    <tr>\n",
       "      <th>4</th>\n",
       "      <td>23.000000</td>\n",
       "      <td>33000.000000</td>\n",
       "      <td>manager</td>\n",
       "      <td>male</td>\n",
       "    </tr>\n",
       "    <tr>\n",
       "      <th>5</th>\n",
       "      <td>23.000000</td>\n",
       "      <td>19714.142857</td>\n",
       "      <td>region manager</td>\n",
       "      <td>female</td>\n",
       "    </tr>\n",
       "    <tr>\n",
       "      <th>6</th>\n",
       "      <td>22.285714</td>\n",
       "      <td>23333.000000</td>\n",
       "      <td>manager</td>\n",
       "      <td>male</td>\n",
       "    </tr>\n",
       "    <tr>\n",
       "      <th>7</th>\n",
       "      <td>22.000000</td>\n",
       "      <td>3333.000000</td>\n",
       "      <td>director</td>\n",
       "      <td>female</td>\n",
       "    </tr>\n",
       "  </tbody>\n",
       "</table>\n",
       "</div>"
      ],
      "text/plain": [
       "         age           pay     designation  gender\n",
       "0  23.000000  20000.000000         manager    male\n",
       "1  21.000000  23000.000000        manager   female\n",
       "2  22.000000  32000.000000  region manager    male\n",
       "3  22.000000   3333.000000         manager  female\n",
       "4  23.000000  33000.000000         manager    male\n",
       "5  23.000000  19714.142857  region manager  female\n",
       "6  22.285714  23333.000000         manager    male\n",
       "7  22.000000   3333.000000        director  female"
      ]
     },
     "execution_count": 26,
     "metadata": {},
     "output_type": "execute_result"
    }
   ],
   "source": [
    "#rename any column\n",
    "df.rename({'salary':'pay'},axis=1,inplace=True)\n",
    "df"
   ]
  },
  {
   "cell_type": "code",
   "execution_count": 29,
   "metadata": {},
   "outputs": [
    {
     "data": {
      "text/plain": [
       "age               23.0\n",
       "pay            20000.0\n",
       "designation    manager\n",
       "gender            male\n",
       "Name: 0, dtype: object"
      ]
     },
     "execution_count": 29,
     "metadata": {},
     "output_type": "execute_result"
    }
   ],
   "source": [
    "#adding row\n",
    "df.loc[0]"
   ]
  },
  {
   "cell_type": "code",
   "execution_count": 30,
   "metadata": {},
   "outputs": [],
   "source": [
    "row=[{\n",
    "    'age':19,\n",
    "    'pay':4444,\n",
    "    'designation':'manager',\n",
    "    'gender':'male'\n",
    "},\n",
    "{\n",
    "    'age':44,\n",
    "    'pay':5233,\n",
    "    'designation':'manager',\n",
    "    'gender':'female'\n",
    "}]"
   ]
  },
  {
   "cell_type": "code",
   "execution_count": 31,
   "metadata": {},
   "outputs": [
    {
     "name": "stderr",
     "output_type": "stream",
     "text": [
      "C:\\Users\\ASUS\\AppData\\Local\\Temp\\ipykernel_4632\\3456989694.py:1: FutureWarning: The frame.append method is deprecated and will be removed from pandas in a future version. Use pandas.concat instead.\n",
      "  df=df.append(row,ignore_index=True)\n"
     ]
    },
    {
     "data": {
      "text/html": [
       "<div>\n",
       "<style scoped>\n",
       "    .dataframe tbody tr th:only-of-type {\n",
       "        vertical-align: middle;\n",
       "    }\n",
       "\n",
       "    .dataframe tbody tr th {\n",
       "        vertical-align: top;\n",
       "    }\n",
       "\n",
       "    .dataframe thead th {\n",
       "        text-align: right;\n",
       "    }\n",
       "</style>\n",
       "<table border=\"1\" class=\"dataframe\">\n",
       "  <thead>\n",
       "    <tr style=\"text-align: right;\">\n",
       "      <th></th>\n",
       "      <th>age</th>\n",
       "      <th>pay</th>\n",
       "      <th>designation</th>\n",
       "      <th>gender</th>\n",
       "    </tr>\n",
       "  </thead>\n",
       "  <tbody>\n",
       "    <tr>\n",
       "      <th>0</th>\n",
       "      <td>23.000000</td>\n",
       "      <td>20000.000000</td>\n",
       "      <td>manager</td>\n",
       "      <td>male</td>\n",
       "    </tr>\n",
       "    <tr>\n",
       "      <th>1</th>\n",
       "      <td>21.000000</td>\n",
       "      <td>23000.000000</td>\n",
       "      <td>manager</td>\n",
       "      <td>female</td>\n",
       "    </tr>\n",
       "    <tr>\n",
       "      <th>2</th>\n",
       "      <td>22.000000</td>\n",
       "      <td>32000.000000</td>\n",
       "      <td>region manager</td>\n",
       "      <td>male</td>\n",
       "    </tr>\n",
       "    <tr>\n",
       "      <th>3</th>\n",
       "      <td>22.000000</td>\n",
       "      <td>3333.000000</td>\n",
       "      <td>manager</td>\n",
       "      <td>female</td>\n",
       "    </tr>\n",
       "    <tr>\n",
       "      <th>4</th>\n",
       "      <td>23.000000</td>\n",
       "      <td>33000.000000</td>\n",
       "      <td>manager</td>\n",
       "      <td>male</td>\n",
       "    </tr>\n",
       "    <tr>\n",
       "      <th>5</th>\n",
       "      <td>23.000000</td>\n",
       "      <td>19714.142857</td>\n",
       "      <td>region manager</td>\n",
       "      <td>female</td>\n",
       "    </tr>\n",
       "    <tr>\n",
       "      <th>6</th>\n",
       "      <td>22.285714</td>\n",
       "      <td>23333.000000</td>\n",
       "      <td>manager</td>\n",
       "      <td>male</td>\n",
       "    </tr>\n",
       "    <tr>\n",
       "      <th>7</th>\n",
       "      <td>22.000000</td>\n",
       "      <td>3333.000000</td>\n",
       "      <td>director</td>\n",
       "      <td>female</td>\n",
       "    </tr>\n",
       "    <tr>\n",
       "      <th>8</th>\n",
       "      <td>19.000000</td>\n",
       "      <td>4444.000000</td>\n",
       "      <td>manager</td>\n",
       "      <td>male</td>\n",
       "    </tr>\n",
       "    <tr>\n",
       "      <th>9</th>\n",
       "      <td>44.000000</td>\n",
       "      <td>5233.000000</td>\n",
       "      <td>manager</td>\n",
       "      <td>female</td>\n",
       "    </tr>\n",
       "  </tbody>\n",
       "</table>\n",
       "</div>"
      ],
      "text/plain": [
       "         age           pay     designation  gender\n",
       "0  23.000000  20000.000000         manager    male\n",
       "1  21.000000  23000.000000        manager   female\n",
       "2  22.000000  32000.000000  region manager    male\n",
       "3  22.000000   3333.000000         manager  female\n",
       "4  23.000000  33000.000000         manager    male\n",
       "5  23.000000  19714.142857  region manager  female\n",
       "6  22.285714  23333.000000         manager    male\n",
       "7  22.000000   3333.000000        director  female\n",
       "8  19.000000   4444.000000         manager    male\n",
       "9  44.000000   5233.000000         manager  female"
      ]
     },
     "execution_count": 31,
     "metadata": {},
     "output_type": "execute_result"
    }
   ],
   "source": [
    "df=df.append(row,ignore_index=True)\n",
    "df"
   ]
  },
  {
   "cell_type": "code",
   "execution_count": 32,
   "metadata": {},
   "outputs": [
    {
     "data": {
      "text/plain": [
       "male      5\n",
       "female    5\n",
       "Name: gender, dtype: int64"
      ]
     },
     "execution_count": 32,
     "metadata": {},
     "output_type": "execute_result"
    }
   ],
   "source": [
    "df['gender'].value_counts()"
   ]
  },
  {
   "cell_type": "code",
   "execution_count": 33,
   "metadata": {},
   "outputs": [],
   "source": [
    "from sklearn.preprocessing import LabelEncoder"
   ]
  },
  {
   "cell_type": "code",
   "execution_count": 34,
   "metadata": {},
   "outputs": [
    {
     "data": {
      "text/plain": [
       "LabelEncoder()"
      ]
     },
     "execution_count": 34,
     "metadata": {},
     "output_type": "execute_result"
    }
   ],
   "source": [
    "#step one create object and fit(train)\n",
    "gender_enc=LabelEncoder()\n",
    "gender_enc.fit(df['gender'])"
   ]
  },
  {
   "cell_type": "code",
   "execution_count": 35,
   "metadata": {},
   "outputs": [
    {
     "data": {
      "text/html": [
       "<div>\n",
       "<style scoped>\n",
       "    .dataframe tbody tr th:only-of-type {\n",
       "        vertical-align: middle;\n",
       "    }\n",
       "\n",
       "    .dataframe tbody tr th {\n",
       "        vertical-align: top;\n",
       "    }\n",
       "\n",
       "    .dataframe thead th {\n",
       "        text-align: right;\n",
       "    }\n",
       "</style>\n",
       "<table border=\"1\" class=\"dataframe\">\n",
       "  <thead>\n",
       "    <tr style=\"text-align: right;\">\n",
       "      <th></th>\n",
       "      <th>age</th>\n",
       "      <th>pay</th>\n",
       "      <th>designation</th>\n",
       "      <th>gender</th>\n",
       "    </tr>\n",
       "  </thead>\n",
       "  <tbody>\n",
       "    <tr>\n",
       "      <th>0</th>\n",
       "      <td>23.000000</td>\n",
       "      <td>20000.000000</td>\n",
       "      <td>manager</td>\n",
       "      <td>1</td>\n",
       "    </tr>\n",
       "    <tr>\n",
       "      <th>1</th>\n",
       "      <td>21.000000</td>\n",
       "      <td>23000.000000</td>\n",
       "      <td>manager</td>\n",
       "      <td>0</td>\n",
       "    </tr>\n",
       "    <tr>\n",
       "      <th>2</th>\n",
       "      <td>22.000000</td>\n",
       "      <td>32000.000000</td>\n",
       "      <td>region manager</td>\n",
       "      <td>1</td>\n",
       "    </tr>\n",
       "    <tr>\n",
       "      <th>3</th>\n",
       "      <td>22.000000</td>\n",
       "      <td>3333.000000</td>\n",
       "      <td>manager</td>\n",
       "      <td>0</td>\n",
       "    </tr>\n",
       "    <tr>\n",
       "      <th>4</th>\n",
       "      <td>23.000000</td>\n",
       "      <td>33000.000000</td>\n",
       "      <td>manager</td>\n",
       "      <td>1</td>\n",
       "    </tr>\n",
       "    <tr>\n",
       "      <th>5</th>\n",
       "      <td>23.000000</td>\n",
       "      <td>19714.142857</td>\n",
       "      <td>region manager</td>\n",
       "      <td>0</td>\n",
       "    </tr>\n",
       "    <tr>\n",
       "      <th>6</th>\n",
       "      <td>22.285714</td>\n",
       "      <td>23333.000000</td>\n",
       "      <td>manager</td>\n",
       "      <td>1</td>\n",
       "    </tr>\n",
       "    <tr>\n",
       "      <th>7</th>\n",
       "      <td>22.000000</td>\n",
       "      <td>3333.000000</td>\n",
       "      <td>director</td>\n",
       "      <td>0</td>\n",
       "    </tr>\n",
       "    <tr>\n",
       "      <th>8</th>\n",
       "      <td>19.000000</td>\n",
       "      <td>4444.000000</td>\n",
       "      <td>manager</td>\n",
       "      <td>1</td>\n",
       "    </tr>\n",
       "    <tr>\n",
       "      <th>9</th>\n",
       "      <td>44.000000</td>\n",
       "      <td>5233.000000</td>\n",
       "      <td>manager</td>\n",
       "      <td>0</td>\n",
       "    </tr>\n",
       "  </tbody>\n",
       "</table>\n",
       "</div>"
      ],
      "text/plain": [
       "         age           pay     designation  gender\n",
       "0  23.000000  20000.000000         manager       1\n",
       "1  21.000000  23000.000000        manager        0\n",
       "2  22.000000  32000.000000  region manager       1\n",
       "3  22.000000   3333.000000         manager       0\n",
       "4  23.000000  33000.000000         manager       1\n",
       "5  23.000000  19714.142857  region manager       0\n",
       "6  22.285714  23333.000000         manager       1\n",
       "7  22.000000   3333.000000        director       0\n",
       "8  19.000000   4444.000000         manager       1\n",
       "9  44.000000   5233.000000         manager       0"
      ]
     },
     "execution_count": 35,
     "metadata": {},
     "output_type": "execute_result"
    }
   ],
   "source": [
    "#second step tranformation(testing)\n",
    "df['gender']=gender_enc.transform(df['gender'])\n",
    "df"
   ]
  },
  {
   "cell_type": "code",
   "execution_count": 36,
   "metadata": {},
   "outputs": [
    {
     "data": {
      "text/plain": [
       "array(['female', 'male'], dtype=object)"
      ]
     },
     "execution_count": 36,
     "metadata": {},
     "output_type": "execute_result"
    }
   ],
   "source": [
    "gender_enc.classes_"
   ]
  },
  {
   "cell_type": "code",
   "execution_count": 37,
   "metadata": {},
   "outputs": [
    {
     "data": {
      "text/plain": [
       "array(['male', 'female'], dtype=object)"
      ]
     },
     "execution_count": 37,
     "metadata": {},
     "output_type": "execute_result"
    }
   ],
   "source": [
    "gender_enc.inverse_transform([1,0])"
   ]
  },
  {
   "cell_type": "code",
   "execution_count": 38,
   "metadata": {},
   "outputs": [
    {
     "data": {
      "text/plain": [
       "manager           6\n",
       "region manager    2\n",
       "manager           1\n",
       "director          1\n",
       "Name: designation, dtype: int64"
      ]
     },
     "execution_count": 38,
     "metadata": {},
     "output_type": "execute_result"
    }
   ],
   "source": [
    "#if our data has multiple values in any column then we use onehotencoder\n",
    "df['designation'].value_counts()"
   ]
  },
  {
   "cell_type": "code",
   "execution_count": 40,
   "metadata": {},
   "outputs": [
    {
     "data": {
      "text/plain": [
       "array(['manager', 'manager ', 'region manager', 'director'], dtype=object)"
      ]
     },
     "execution_count": 40,
     "metadata": {},
     "output_type": "execute_result"
    }
   ],
   "source": [
    "df.designation.unique()\n",
    "#we have multiple unique values in data so we use onehotencoder\n"
   ]
  },
  {
   "cell_type": "code",
   "execution_count": 41,
   "metadata": {},
   "outputs": [
    {
     "data": {
      "text/plain": [
       "4"
      ]
     },
     "execution_count": 41,
     "metadata": {},
     "output_type": "execute_result"
    }
   ],
   "source": [
    "df.designation.nunique()"
   ]
  },
  {
   "cell_type": "markdown",
   "metadata": {},
   "source": [
    "NOW DUMMY VARIABLE CREATION BY ONEHOTENCODER"
   ]
  },
  {
   "cell_type": "code",
   "execution_count": 42,
   "metadata": {},
   "outputs": [],
   "source": [
    "from sklearn.preprocessing import OneHotEncoder"
   ]
  },
  {
   "cell_type": "code",
   "execution_count": 46,
   "metadata": {},
   "outputs": [
    {
     "data": {
      "text/plain": [
       "OneHotEncoder(drop='first')"
      ]
     },
     "execution_count": 46,
     "metadata": {},
     "output_type": "execute_result"
    }
   ],
   "source": [
    "desig_enc=OneHotEncoder(drop='first')\n",
    "desig_enc.fit(df[['designation']]) #it creates an object for onehotencoder\n"
   ]
  },
  {
   "cell_type": "code",
   "execution_count": 47,
   "metadata": {},
   "outputs": [],
   "source": [
    "designation_dummies=desig_enc.transform(df[['designation']]).toarray()"
   ]
  },
  {
   "cell_type": "code",
   "execution_count": 48,
   "metadata": {},
   "outputs": [],
   "source": [
    "df.drop(columns=['designation'],axis=1,inplace=True)"
   ]
  },
  {
   "cell_type": "code",
   "execution_count": 49,
   "metadata": {},
   "outputs": [
    {
     "data": {
      "text/plain": [
       "array([[2.30000000e+01, 2.00000000e+04, 1.00000000e+00],\n",
       "       [2.10000000e+01, 2.30000000e+04, 0.00000000e+00],\n",
       "       [2.20000000e+01, 3.20000000e+04, 1.00000000e+00],\n",
       "       [2.20000000e+01, 3.33300000e+03, 0.00000000e+00],\n",
       "       [2.30000000e+01, 3.30000000e+04, 1.00000000e+00],\n",
       "       [2.30000000e+01, 1.97141429e+04, 0.00000000e+00],\n",
       "       [2.22857143e+01, 2.33330000e+04, 1.00000000e+00],\n",
       "       [2.20000000e+01, 3.33300000e+03, 0.00000000e+00],\n",
       "       [1.90000000e+01, 4.44400000e+03, 1.00000000e+00],\n",
       "       [4.40000000e+01, 5.23300000e+03, 0.00000000e+00]])"
      ]
     },
     "execution_count": 49,
     "metadata": {},
     "output_type": "execute_result"
    }
   ],
   "source": [
    "df.values"
   ]
  },
  {
   "cell_type": "code",
   "execution_count": 50,
   "metadata": {},
   "outputs": [],
   "source": [
    "#now we add two numpy matrix\n",
    "import numpy as np"
   ]
  },
  {
   "cell_type": "code",
   "execution_count": 51,
   "metadata": {},
   "outputs": [],
   "source": [
    "data=np.hstack((designation_dummies,df.values))"
   ]
  },
  {
   "cell_type": "code",
   "execution_count": 52,
   "metadata": {},
   "outputs": [
    {
     "data": {
      "text/plain": [
       "(10, 6)"
      ]
     },
     "execution_count": 52,
     "metadata": {},
     "output_type": "execute_result"
    }
   ],
   "source": [
    "data.shape"
   ]
  },
  {
   "cell_type": "code",
   "execution_count": 53,
   "metadata": {},
   "outputs": [
    {
     "data": {
      "text/html": [
       "<div>\n",
       "<style scoped>\n",
       "    .dataframe tbody tr th:only-of-type {\n",
       "        vertical-align: middle;\n",
       "    }\n",
       "\n",
       "    .dataframe tbody tr th {\n",
       "        vertical-align: top;\n",
       "    }\n",
       "\n",
       "    .dataframe thead th {\n",
       "        text-align: right;\n",
       "    }\n",
       "</style>\n",
       "<table border=\"1\" class=\"dataframe\">\n",
       "  <thead>\n",
       "    <tr style=\"text-align: right;\">\n",
       "      <th></th>\n",
       "      <th>0</th>\n",
       "      <th>1</th>\n",
       "      <th>2</th>\n",
       "    </tr>\n",
       "  </thead>\n",
       "  <tbody>\n",
       "    <tr>\n",
       "      <th>0</th>\n",
       "      <td>1.0</td>\n",
       "      <td>0.0</td>\n",
       "      <td>0.0</td>\n",
       "    </tr>\n",
       "    <tr>\n",
       "      <th>1</th>\n",
       "      <td>0.0</td>\n",
       "      <td>1.0</td>\n",
       "      <td>0.0</td>\n",
       "    </tr>\n",
       "    <tr>\n",
       "      <th>2</th>\n",
       "      <td>0.0</td>\n",
       "      <td>0.0</td>\n",
       "      <td>1.0</td>\n",
       "    </tr>\n",
       "    <tr>\n",
       "      <th>3</th>\n",
       "      <td>1.0</td>\n",
       "      <td>0.0</td>\n",
       "      <td>0.0</td>\n",
       "    </tr>\n",
       "    <tr>\n",
       "      <th>4</th>\n",
       "      <td>1.0</td>\n",
       "      <td>0.0</td>\n",
       "      <td>0.0</td>\n",
       "    </tr>\n",
       "  </tbody>\n",
       "</table>\n",
       "</div>"
      ],
      "text/plain": [
       "     0    1    2\n",
       "0  1.0  0.0  0.0\n",
       "1  0.0  1.0  0.0\n",
       "2  0.0  0.0  1.0\n",
       "3  1.0  0.0  0.0\n",
       "4  1.0  0.0  0.0"
      ]
     },
     "execution_count": 53,
     "metadata": {},
     "output_type": "execute_result"
    }
   ],
   "source": [
    "desig_dummy_df=pd.DataFrame(designation_dummies)\n",
    "desig_dummy_df.head()"
   ]
  },
  {
   "cell_type": "code",
   "execution_count": 54,
   "metadata": {},
   "outputs": [],
   "source": [
    "data_df=pd.concat([desig_dummy_df,df],axis=1)"
   ]
  },
  {
   "cell_type": "code",
   "execution_count": 55,
   "metadata": {},
   "outputs": [
    {
     "data": {
      "text/html": [
       "<div>\n",
       "<style scoped>\n",
       "    .dataframe tbody tr th:only-of-type {\n",
       "        vertical-align: middle;\n",
       "    }\n",
       "\n",
       "    .dataframe tbody tr th {\n",
       "        vertical-align: top;\n",
       "    }\n",
       "\n",
       "    .dataframe thead th {\n",
       "        text-align: right;\n",
       "    }\n",
       "</style>\n",
       "<table border=\"1\" class=\"dataframe\">\n",
       "  <thead>\n",
       "    <tr style=\"text-align: right;\">\n",
       "      <th></th>\n",
       "      <th>0</th>\n",
       "      <th>1</th>\n",
       "      <th>2</th>\n",
       "      <th>age</th>\n",
       "      <th>pay</th>\n",
       "      <th>gender</th>\n",
       "    </tr>\n",
       "  </thead>\n",
       "  <tbody>\n",
       "    <tr>\n",
       "      <th>0</th>\n",
       "      <td>1.0</td>\n",
       "      <td>0.0</td>\n",
       "      <td>0.0</td>\n",
       "      <td>23.0</td>\n",
       "      <td>20000.0</td>\n",
       "      <td>1</td>\n",
       "    </tr>\n",
       "    <tr>\n",
       "      <th>1</th>\n",
       "      <td>0.0</td>\n",
       "      <td>1.0</td>\n",
       "      <td>0.0</td>\n",
       "      <td>21.0</td>\n",
       "      <td>23000.0</td>\n",
       "      <td>0</td>\n",
       "    </tr>\n",
       "    <tr>\n",
       "      <th>2</th>\n",
       "      <td>0.0</td>\n",
       "      <td>0.0</td>\n",
       "      <td>1.0</td>\n",
       "      <td>22.0</td>\n",
       "      <td>32000.0</td>\n",
       "      <td>1</td>\n",
       "    </tr>\n",
       "    <tr>\n",
       "      <th>3</th>\n",
       "      <td>1.0</td>\n",
       "      <td>0.0</td>\n",
       "      <td>0.0</td>\n",
       "      <td>22.0</td>\n",
       "      <td>3333.0</td>\n",
       "      <td>0</td>\n",
       "    </tr>\n",
       "    <tr>\n",
       "      <th>4</th>\n",
       "      <td>1.0</td>\n",
       "      <td>0.0</td>\n",
       "      <td>0.0</td>\n",
       "      <td>23.0</td>\n",
       "      <td>33000.0</td>\n",
       "      <td>1</td>\n",
       "    </tr>\n",
       "  </tbody>\n",
       "</table>\n",
       "</div>"
      ],
      "text/plain": [
       "     0    1    2   age      pay  gender\n",
       "0  1.0  0.0  0.0  23.0  20000.0       1\n",
       "1  0.0  1.0  0.0  21.0  23000.0       0\n",
       "2  0.0  0.0  1.0  22.0  32000.0       1\n",
       "3  1.0  0.0  0.0  22.0   3333.0       0\n",
       "4  1.0  0.0  0.0  23.0  33000.0       1"
      ]
     },
     "execution_count": 55,
     "metadata": {},
     "output_type": "execute_result"
    }
   ],
   "source": [
    "data_df.head()"
   ]
  },
  {
   "cell_type": "code",
   "execution_count": 56,
   "metadata": {},
   "outputs": [],
   "source": [
    "#now we nee to drop the first col for the ml algo for the humanity\n",
    "#scaling the data\n",
    "#(ml algo should undersatnd all the col important)\n",
    "#so we scale the column and give importance to all the col\n",
    "#two methods to scale:1> minmax scaling 2>standard scaling"
   ]
  },
  {
   "cell_type": "code",
   "execution_count": 60,
   "metadata": {},
   "outputs": [],
   "source": [
    "from sklearn.preprocessing import StandardScaler, MinMaxScaler"
   ]
  },
  {
   "cell_type": "code",
   "execution_count": 61,
   "metadata": {},
   "outputs": [
    {
     "name": "stdout",
     "output_type": "stream",
     "text": [
      "[[1.         0.         0.         0.16       0.56180268 1.        ]\n",
      " [0.         1.         0.         0.08       0.66292514 0.        ]\n",
      " [0.         0.         1.         0.12       0.96629251 1.        ]\n",
      " [1.         0.         0.         0.12       0.         0.        ]\n",
      " [1.         0.         0.         0.16       1.         1.        ]\n",
      " [0.         0.         1.         0.16       0.55216715 0.        ]\n",
      " [1.         0.         0.         0.13142857 0.67414973 1.        ]\n",
      " [0.         0.         0.         0.12       0.         0.        ]\n",
      " [1.         0.         0.         0.         0.03744902 1.        ]\n",
      " [1.         0.         0.         1.         0.06404422 0.        ]]\n"
     ]
    },
    {
     "name": "stderr",
     "output_type": "stream",
     "text": [
      "C:\\Users\\ASUS\\miniconda3\\envs\\digi1\\lib\\site-packages\\sklearn\\utils\\validation.py:1688: FutureWarning: Feature names only support names that are all strings. Got feature names with dtypes: ['int', 'str']. An error will be raised in 1.2.\n",
      "  warnings.warn(\n",
      "C:\\Users\\ASUS\\miniconda3\\envs\\digi1\\lib\\site-packages\\sklearn\\utils\\validation.py:1688: FutureWarning: Feature names only support names that are all strings. Got feature names with dtypes: ['int', 'str']. An error will be raised in 1.2.\n",
      "  warnings.warn(\n"
     ]
    }
   ],
   "source": [
    "mxscaler=MinMaxScaler()\n",
    "mxscaler.fit(data_df)\n",
    "scaled_data=mxscaler.transform(data_df)\n",
    "print(scaled_data)"
   ]
  },
  {
   "cell_type": "code",
   "execution_count": null,
   "metadata": {},
   "outputs": [],
   "source": [
    "stdscaler=StandardScaler()\n",
    "stdscaler.fit(data_df)\n",
    "scaled_data=stdscaler.transform(data_df)\n"
   ]
  },
  {
   "cell_type": "code",
   "execution_count": 65,
   "metadata": {},
   "outputs": [
    {
     "name": "stdout",
     "output_type": "stream",
     "text": [
      "[[ 0.81649658 -0.33333333 -0.5        -0.16790696  0.29255258  1.        ]\n",
      " [-1.22474487  3.         -0.5        -0.46546359  0.56169136 -1.        ]\n",
      " [-1.22474487 -0.33333333  2.         -0.31668527  1.36910771  1.        ]\n",
      " [ 0.81649658 -0.33333333 -0.5        -0.31668527 -1.20269279 -1.        ]\n",
      " [ 0.81649658 -0.33333333 -0.5        -0.16790696  1.45882064  1.        ]\n",
      " [-1.22474487 -0.33333333  2.         -0.16790696  0.26690749 -1.        ]\n",
      " [ 0.81649658 -0.33333333 -0.5        -0.27417718  0.59156576  1.        ]\n",
      " [-1.22474487 -0.33333333 -0.5        -0.31668527 -1.20269279 -1.        ]\n",
      " [ 0.81649658 -0.33333333 -0.5        -0.76302022 -1.10302173  1.        ]\n",
      " [ 0.81649658 -0.33333333 -0.5         2.95643768 -1.03223823 -1.        ]]\n"
     ]
    }
   ],
   "source": [
    "print(scaled_data)"
   ]
  },
  {
   "cell_type": "code",
   "execution_count": null,
   "metadata": {},
   "outputs": [],
   "source": []
  }
 ],
 "metadata": {
  "interpreter": {
   "hash": "1c69672af78ae9d0d0209691da61dd9b4ae0648c2322e90a6e9f16d450e75d9d"
  },
  "kernelspec": {
   "display_name": "Python 3.9.9 64-bit ('digi1': conda)",
   "language": "python",
   "name": "python3"
  },
  "language_info": {
   "codemirror_mode": {
    "name": "ipython",
    "version": 3
   },
   "file_extension": ".py",
   "mimetype": "text/x-python",
   "name": "python",
   "nbconvert_exporter": "python",
   "pygments_lexer": "ipython3",
   "version": "3.9.9"
  },
  "orig_nbformat": 4
 },
 "nbformat": 4,
 "nbformat_minor": 2
}
