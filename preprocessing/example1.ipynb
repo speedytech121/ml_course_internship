{
 "cells": [
  {
   "cell_type": "markdown",
   "metadata": {},
   "source": [
    "What is Pandas?\n",
    "Pandas is a Python library used for working with data sets.\n",
    "\n",
    "It has functions for analyzing, cleaning, exploring, and manipulating data."
   ]
  },
  {
   "cell_type": "code",
   "execution_count": 1,
   "metadata": {},
   "outputs": [],
   "source": [
    "import pandas as pd"
   ]
  },
  {
   "cell_type": "code",
   "execution_count": 2,
   "metadata": {},
   "outputs": [],
   "source": [
    "df=pd.read_csv('../sample.csv')\n"
   ]
  },
  {
   "cell_type": "code",
   "execution_count": 3,
   "metadata": {},
   "outputs": [
    {
     "data": {
      "text/html": [
       "<div>\n",
       "<style scoped>\n",
       "    .dataframe tbody tr th:only-of-type {\n",
       "        vertical-align: middle;\n",
       "    }\n",
       "\n",
       "    .dataframe tbody tr th {\n",
       "        vertical-align: top;\n",
       "    }\n",
       "\n",
       "    .dataframe thead th {\n",
       "        text-align: right;\n",
       "    }\n",
       "</style>\n",
       "<table border=\"1\" class=\"dataframe\">\n",
       "  <thead>\n",
       "    <tr style=\"text-align: right;\">\n",
       "      <th></th>\n",
       "      <th>sno</th>\n",
       "      <th>name</th>\n",
       "      <th>age</th>\n",
       "      <th>salary</th>\n",
       "      <th>designation</th>\n",
       "      <th>mobile</th>\n",
       "    </tr>\n",
       "  </thead>\n",
       "  <tbody>\n",
       "    <tr>\n",
       "      <th>0</th>\n",
       "      <td>1</td>\n",
       "      <td>shabeeh abaas</td>\n",
       "      <td>23.0</td>\n",
       "      <td>$20,000</td>\n",
       "      <td>manager</td>\n",
       "      <td>9.140098e+09</td>\n",
       "    </tr>\n",
       "    <tr>\n",
       "      <th>1</th>\n",
       "      <td>2</td>\n",
       "      <td>kashish agrawal</td>\n",
       "      <td>21.0</td>\n",
       "      <td>$23,000</td>\n",
       "      <td>manager</td>\n",
       "      <td>3.242343e+08</td>\n",
       "    </tr>\n",
       "    <tr>\n",
       "      <th>2</th>\n",
       "      <td>3</td>\n",
       "      <td>nisha shukla</td>\n",
       "      <td>22.0</td>\n",
       "      <td>$32,000</td>\n",
       "      <td>region manager</td>\n",
       "      <td>2.903482e+09</td>\n",
       "    </tr>\n",
       "    <tr>\n",
       "      <th>3</th>\n",
       "      <td>4</td>\n",
       "      <td>kriti rajput</td>\n",
       "      <td>22.0</td>\n",
       "      <td>$3,333</td>\n",
       "      <td>NaN</td>\n",
       "      <td>NaN</td>\n",
       "    </tr>\n",
       "    <tr>\n",
       "      <th>4</th>\n",
       "      <td>5</td>\n",
       "      <td>deepak gupta</td>\n",
       "      <td>23.0</td>\n",
       "      <td>$33,000</td>\n",
       "      <td>manager</td>\n",
       "      <td>2.343243e+08</td>\n",
       "    </tr>\n",
       "  </tbody>\n",
       "</table>\n",
       "</div>"
      ],
      "text/plain": [
       "   sno             name   age   salary     designation        mobile\n",
       "0    1    shabeeh abaas  23.0  $20,000         manager  9.140098e+09\n",
       "1    2  kashish agrawal  21.0  $23,000        manager   3.242343e+08\n",
       "2    3     nisha shukla  22.0  $32,000  region manager  2.903482e+09\n",
       "3    4     kriti rajput  22.0   $3,333             NaN           NaN\n",
       "4    5     deepak gupta  23.0  $33,000         manager  2.343243e+08"
      ]
     },
     "execution_count": 3,
     "metadata": {},
     "output_type": "execute_result"
    }
   ],
   "source": [
    "df.head()"
   ]
  },
  {
   "cell_type": "code",
   "execution_count": 4,
   "metadata": {},
   "outputs": [],
   "source": [
    "# df.notnull()         #to check not null values\n",
    "# df.isnull()          #to check null values\n",
    "\n",
    "# df.isnull().sum()    #to check no of null values\n",
    "# df.info() for information\n"
   ]
  },
  {
   "cell_type": "markdown",
   "metadata": {},
   "source": [
    "DATA CLEANING\n",
    "---------------At the time of cleaning first thing is--------------------\n",
    "[imputation]handle missing values(numerical type,text based'string' type)--replace-missing-value\n",
    "    [we find average of the values and place the value at the missing value place]\n",
    "    for that we use logic(MEAN) and use library(SCIKIT-LEARN) Use class simpleimputer(finds the null and place the average of all values)\n",
    "\n",
    "    [if missing value is text type]use logic(FREQUENCY) use any class in various ways]\n",
    "\n",
    "[clean up]string cleaning[(string to numerical]type.. for a numerical col) we use STRING FUNCTIONS and should know pandas str functions\n",
    "    we should know pandas str function,lambda expression, apply and applymap()\n",
    "\n",
    "[row/columns remove] logic is DROP THE COL and library is PD.DROP()\n",
    "[columns add] logic is (data to fill the columns)\n",
    "[column renaming] library use ( pd.rename())\n",
    "[row add] logic is (data fro the column)\n",
    "[replace values in row/col] logic (data to replace) should know function (pd.replace())\n",
    "[applymap works on row and column both not like that apply function.]\n"
   ]
  },
  {
   "cell_type": "code",
   "execution_count": 5,
   "metadata": {},
   "outputs": [
    {
     "data": {
      "text/html": [
       "<div>\n",
       "<style scoped>\n",
       "    .dataframe tbody tr th:only-of-type {\n",
       "        vertical-align: middle;\n",
       "    }\n",
       "\n",
       "    .dataframe tbody tr th {\n",
       "        vertical-align: top;\n",
       "    }\n",
       "\n",
       "    .dataframe thead th {\n",
       "        text-align: right;\n",
       "    }\n",
       "</style>\n",
       "<table border=\"1\" class=\"dataframe\">\n",
       "  <thead>\n",
       "    <tr style=\"text-align: right;\">\n",
       "      <th></th>\n",
       "      <th>sno</th>\n",
       "      <th>name</th>\n",
       "      <th>age</th>\n",
       "      <th>salary</th>\n",
       "      <th>designation</th>\n",
       "      <th>mobile</th>\n",
       "    </tr>\n",
       "  </thead>\n",
       "  <tbody>\n",
       "    <tr>\n",
       "      <th>0</th>\n",
       "      <td>1</td>\n",
       "      <td>shabeeh abaas</td>\n",
       "      <td>23.0</td>\n",
       "      <td>$20,000</td>\n",
       "      <td>manager</td>\n",
       "      <td>9.140098e+09</td>\n",
       "    </tr>\n",
       "    <tr>\n",
       "      <th>1</th>\n",
       "      <td>2</td>\n",
       "      <td>kashish agrawal</td>\n",
       "      <td>21.0</td>\n",
       "      <td>$23,000</td>\n",
       "      <td>manager</td>\n",
       "      <td>3.242343e+08</td>\n",
       "    </tr>\n",
       "    <tr>\n",
       "      <th>2</th>\n",
       "      <td>3</td>\n",
       "      <td>nisha shukla</td>\n",
       "      <td>22.0</td>\n",
       "      <td>$32,000</td>\n",
       "      <td>region manager</td>\n",
       "      <td>2.903482e+09</td>\n",
       "    </tr>\n",
       "    <tr>\n",
       "      <th>3</th>\n",
       "      <td>4</td>\n",
       "      <td>kriti rajput</td>\n",
       "      <td>22.0</td>\n",
       "      <td>$3,333</td>\n",
       "      <td>NaN</td>\n",
       "      <td>NaN</td>\n",
       "    </tr>\n",
       "    <tr>\n",
       "      <th>4</th>\n",
       "      <td>5</td>\n",
       "      <td>deepak gupta</td>\n",
       "      <td>23.0</td>\n",
       "      <td>$33,000</td>\n",
       "      <td>manager</td>\n",
       "      <td>2.343243e+08</td>\n",
       "    </tr>\n",
       "    <tr>\n",
       "      <th>5</th>\n",
       "      <td>6</td>\n",
       "      <td>mayank singh</td>\n",
       "      <td>23.0</td>\n",
       "      <td>NaN</td>\n",
       "      <td>region manager</td>\n",
       "      <td>2.334243e+08</td>\n",
       "    </tr>\n",
       "    <tr>\n",
       "      <th>6</th>\n",
       "      <td>7</td>\n",
       "      <td>aditya sagar</td>\n",
       "      <td>NaN</td>\n",
       "      <td>$23,333</td>\n",
       "      <td>manager</td>\n",
       "      <td>2.342423e+09</td>\n",
       "    </tr>\n",
       "    <tr>\n",
       "      <th>7</th>\n",
       "      <td>8</td>\n",
       "      <td>prashant</td>\n",
       "      <td>22.0</td>\n",
       "      <td>$3,333</td>\n",
       "      <td>director</td>\n",
       "      <td>2.324343e+07</td>\n",
       "    </tr>\n",
       "  </tbody>\n",
       "</table>\n",
       "</div>"
      ],
      "text/plain": [
       "   sno             name   age   salary     designation        mobile\n",
       "0    1    shabeeh abaas  23.0  $20,000         manager  9.140098e+09\n",
       "1    2  kashish agrawal  21.0  $23,000        manager   3.242343e+08\n",
       "2    3     nisha shukla  22.0  $32,000  region manager  2.903482e+09\n",
       "3    4     kriti rajput  22.0   $3,333             NaN           NaN\n",
       "4    5     deepak gupta  23.0  $33,000         manager  2.343243e+08\n",
       "5    6     mayank singh  23.0      NaN  region manager  2.334243e+08\n",
       "6    7     aditya sagar   NaN  $23,333         manager  2.342423e+09\n",
       "7    8         prashant  22.0   $3,333        director  2.324343e+07"
      ]
     },
     "execution_count": 5,
     "metadata": {},
     "output_type": "execute_result"
    }
   ],
   "source": [
    "df"
   ]
  },
  {
   "cell_type": "markdown",
   "metadata": {},
   "source": [
    "cleaning function"
   ]
  },
  {
   "cell_type": "code",
   "execution_count": 6,
   "metadata": {},
   "outputs": [],
   "source": [
    "def salary_clean(salary):\n",
    "    if isinstance(salary,str): # to check type of the data\n",
    "        salary=salary.strip()\n",
    "        if '$' in salary:\n",
    "            salary=salary.replace('$','')\n",
    "        if ',' in salary:\n",
    "            salary=salary.replace(',','')\n",
    "\n",
    "        return int(salary)\n",
    "    return salary"
   ]
  },
  {
   "cell_type": "code",
   "execution_count": 7,
   "metadata": {},
   "outputs": [
    {
     "data": {
      "text/plain": [
       "0    20000.0\n",
       "1    23000.0\n",
       "2    32000.0\n",
       "3     3333.0\n",
       "4    33000.0\n",
       "5        NaN\n",
       "6    23333.0\n",
       "7     3333.0\n",
       "Name: salary, dtype: float64"
      ]
     },
     "execution_count": 7,
     "metadata": {},
     "output_type": "execute_result"
    }
   ],
   "source": [
    "#for cleaning\n",
    "# test run\n",
    "df['salary'].apply(salary_clean)\n"
   ]
  },
  {
   "cell_type": "code",
   "execution_count": 8,
   "metadata": {},
   "outputs": [
    {
     "data": {
      "text/html": [
       "<div>\n",
       "<style scoped>\n",
       "    .dataframe tbody tr th:only-of-type {\n",
       "        vertical-align: middle;\n",
       "    }\n",
       "\n",
       "    .dataframe tbody tr th {\n",
       "        vertical-align: top;\n",
       "    }\n",
       "\n",
       "    .dataframe thead th {\n",
       "        text-align: right;\n",
       "    }\n",
       "</style>\n",
       "<table border=\"1\" class=\"dataframe\">\n",
       "  <thead>\n",
       "    <tr style=\"text-align: right;\">\n",
       "      <th></th>\n",
       "      <th>sno</th>\n",
       "      <th>name</th>\n",
       "      <th>age</th>\n",
       "      <th>salary</th>\n",
       "      <th>designation</th>\n",
       "      <th>mobile</th>\n",
       "    </tr>\n",
       "  </thead>\n",
       "  <tbody>\n",
       "    <tr>\n",
       "      <th>0</th>\n",
       "      <td>1</td>\n",
       "      <td>shabeeh abaas</td>\n",
       "      <td>23.0</td>\n",
       "      <td>20000.0</td>\n",
       "      <td>manager</td>\n",
       "      <td>9.140098e+09</td>\n",
       "    </tr>\n",
       "    <tr>\n",
       "      <th>1</th>\n",
       "      <td>2</td>\n",
       "      <td>kashish agrawal</td>\n",
       "      <td>21.0</td>\n",
       "      <td>23000.0</td>\n",
       "      <td>manager</td>\n",
       "      <td>3.242343e+08</td>\n",
       "    </tr>\n",
       "    <tr>\n",
       "      <th>2</th>\n",
       "      <td>3</td>\n",
       "      <td>nisha shukla</td>\n",
       "      <td>22.0</td>\n",
       "      <td>32000.0</td>\n",
       "      <td>region manager</td>\n",
       "      <td>2.903482e+09</td>\n",
       "    </tr>\n",
       "    <tr>\n",
       "      <th>3</th>\n",
       "      <td>4</td>\n",
       "      <td>kriti rajput</td>\n",
       "      <td>22.0</td>\n",
       "      <td>3333.0</td>\n",
       "      <td>NaN</td>\n",
       "      <td>NaN</td>\n",
       "    </tr>\n",
       "    <tr>\n",
       "      <th>4</th>\n",
       "      <td>5</td>\n",
       "      <td>deepak gupta</td>\n",
       "      <td>23.0</td>\n",
       "      <td>33000.0</td>\n",
       "      <td>manager</td>\n",
       "      <td>2.343243e+08</td>\n",
       "    </tr>\n",
       "    <tr>\n",
       "      <th>5</th>\n",
       "      <td>6</td>\n",
       "      <td>mayank singh</td>\n",
       "      <td>23.0</td>\n",
       "      <td>NaN</td>\n",
       "      <td>region manager</td>\n",
       "      <td>2.334243e+08</td>\n",
       "    </tr>\n",
       "    <tr>\n",
       "      <th>6</th>\n",
       "      <td>7</td>\n",
       "      <td>aditya sagar</td>\n",
       "      <td>NaN</td>\n",
       "      <td>23333.0</td>\n",
       "      <td>manager</td>\n",
       "      <td>2.342423e+09</td>\n",
       "    </tr>\n",
       "    <tr>\n",
       "      <th>7</th>\n",
       "      <td>8</td>\n",
       "      <td>prashant</td>\n",
       "      <td>22.0</td>\n",
       "      <td>3333.0</td>\n",
       "      <td>director</td>\n",
       "      <td>2.324343e+07</td>\n",
       "    </tr>\n",
       "  </tbody>\n",
       "</table>\n",
       "</div>"
      ],
      "text/plain": [
       "   sno             name   age   salary     designation        mobile\n",
       "0    1    shabeeh abaas  23.0  20000.0         manager  9.140098e+09\n",
       "1    2  kashish agrawal  21.0  23000.0        manager   3.242343e+08\n",
       "2    3     nisha shukla  22.0  32000.0  region manager  2.903482e+09\n",
       "3    4     kriti rajput  22.0   3333.0             NaN           NaN\n",
       "4    5     deepak gupta  23.0  33000.0         manager  2.343243e+08\n",
       "5    6     mayank singh  23.0      NaN  region manager  2.334243e+08\n",
       "6    7     aditya sagar   NaN  23333.0         manager  2.342423e+09\n",
       "7    8         prashant  22.0   3333.0        director  2.324343e+07"
      ]
     },
     "execution_count": 8,
     "metadata": {},
     "output_type": "execute_result"
    }
   ],
   "source": [
    "#final apply\n",
    "df['salary']=df['salary'].apply(salary_clean)\n",
    "df"
   ]
  },
  {
   "cell_type": "markdown",
   "metadata": {},
   "source": [
    "removing column mobile"
   ]
  },
  {
   "cell_type": "code",
   "execution_count": 9,
   "metadata": {},
   "outputs": [],
   "source": [
    "#test run       df.drop('['mobile','sno','name'],axis=1) #axis define column \n",
    "#if any col has same value or unique values then the column is worst\n",
    "#(but it is not for the predictable col)"
   ]
  },
  {
   "cell_type": "code",
   "execution_count": 10,
   "metadata": {},
   "outputs": [
    {
     "data": {
      "text/html": [
       "<div>\n",
       "<style scoped>\n",
       "    .dataframe tbody tr th:only-of-type {\n",
       "        vertical-align: middle;\n",
       "    }\n",
       "\n",
       "    .dataframe tbody tr th {\n",
       "        vertical-align: top;\n",
       "    }\n",
       "\n",
       "    .dataframe thead th {\n",
       "        text-align: right;\n",
       "    }\n",
       "</style>\n",
       "<table border=\"1\" class=\"dataframe\">\n",
       "  <thead>\n",
       "    <tr style=\"text-align: right;\">\n",
       "      <th></th>\n",
       "      <th>age</th>\n",
       "      <th>salary</th>\n",
       "      <th>designation</th>\n",
       "    </tr>\n",
       "  </thead>\n",
       "  <tbody>\n",
       "    <tr>\n",
       "      <th>0</th>\n",
       "      <td>23.0</td>\n",
       "      <td>20000.0</td>\n",
       "      <td>manager</td>\n",
       "    </tr>\n",
       "    <tr>\n",
       "      <th>1</th>\n",
       "      <td>21.0</td>\n",
       "      <td>23000.0</td>\n",
       "      <td>manager</td>\n",
       "    </tr>\n",
       "    <tr>\n",
       "      <th>2</th>\n",
       "      <td>22.0</td>\n",
       "      <td>32000.0</td>\n",
       "      <td>region manager</td>\n",
       "    </tr>\n",
       "    <tr>\n",
       "      <th>3</th>\n",
       "      <td>22.0</td>\n",
       "      <td>3333.0</td>\n",
       "      <td>NaN</td>\n",
       "    </tr>\n",
       "    <tr>\n",
       "      <th>4</th>\n",
       "      <td>23.0</td>\n",
       "      <td>33000.0</td>\n",
       "      <td>manager</td>\n",
       "    </tr>\n",
       "    <tr>\n",
       "      <th>5</th>\n",
       "      <td>23.0</td>\n",
       "      <td>NaN</td>\n",
       "      <td>region manager</td>\n",
       "    </tr>\n",
       "    <tr>\n",
       "      <th>6</th>\n",
       "      <td>NaN</td>\n",
       "      <td>23333.0</td>\n",
       "      <td>manager</td>\n",
       "    </tr>\n",
       "    <tr>\n",
       "      <th>7</th>\n",
       "      <td>22.0</td>\n",
       "      <td>3333.0</td>\n",
       "      <td>director</td>\n",
       "    </tr>\n",
       "  </tbody>\n",
       "</table>\n",
       "</div>"
      ],
      "text/plain": [
       "    age   salary     designation\n",
       "0  23.0  20000.0         manager\n",
       "1  21.0  23000.0        manager \n",
       "2  22.0  32000.0  region manager\n",
       "3  22.0   3333.0             NaN\n",
       "4  23.0  33000.0         manager\n",
       "5  23.0      NaN  region manager\n",
       "6   NaN  23333.0         manager\n",
       "7  22.0   3333.0        director"
      ]
     },
     "execution_count": 10,
     "metadata": {},
     "output_type": "execute_result"
    }
   ],
   "source": [
    "#actual run\n",
    "df.drop(['mobile','sno','name'],axis=1,inplace=True)#inpalce makes the changes into the actual data\n",
    "df"
   ]
  },
  {
   "cell_type": "markdown",
   "metadata": {},
   "source": [
    "we fill missing values values by using (scikit learn library)\n"
   ]
  },
  {
   "cell_type": "code",
   "execution_count": 11,
   "metadata": {},
   "outputs": [],
   "source": [
    "from sklearn.impute import SimpleImputer #simpleimputer works for the numbers to complete the missing values\n"
   ]
  },
  {
   "cell_type": "code",
   "execution_count": 12,
   "metadata": {},
   "outputs": [],
   "source": [
    "#SimpleImputer? #it is the way to know about any function"
   ]
  },
  {
   "cell_type": "markdown",
   "metadata": {},
   "source": [
    "PROCESS OF SCIKIT LEARN(general scheme)\n",
    "\n",
    "FIRST WAY:(WHEN WE USE ALGORITHM)\n",
    "1.)class instantiate(object create)\n",
    "2.) fit the data into the object(fit fucntion to fit the data into object)\n",
    "3.) transform to get the result(call the transform function)\n",
    "\n",
    "SECOND WAY:PREPROCESSING(WHEN WE USE OUR DATA)\n",
    "1.)class instantiate(object create)\n",
    "2.)Fit_transfor() [to pass the data and get the result directly]"
   ]
  },
  {
   "cell_type": "code",
   "execution_count": 13,
   "metadata": {},
   "outputs": [],
   "source": [
    "imputer=SimpleImputer()"
   ]
  },
  {
   "cell_type": "code",
   "execution_count": 14,
   "metadata": {},
   "outputs": [
    {
     "data": {
      "text/plain": [
       "array([[2.30000000e+01, 2.00000000e+04],\n",
       "       [2.10000000e+01, 2.30000000e+04],\n",
       "       [2.20000000e+01, 3.20000000e+04],\n",
       "       [2.20000000e+01, 3.33300000e+03],\n",
       "       [2.30000000e+01, 3.30000000e+04],\n",
       "       [2.30000000e+01, 1.97141429e+04],\n",
       "       [2.22857143e+01, 2.33330000e+04],\n",
       "       [2.20000000e+01, 3.33300000e+03]])"
      ]
     },
     "execution_count": 14,
     "metadata": {},
     "output_type": "execute_result"
    }
   ],
   "source": [
    "#x is the columne y is the data\n",
    "#trial run\n",
    "cols=[\"age\",\"salary\"]\n",
    "imputer.fit_transform(df[cols])"
   ]
  },
  {
   "cell_type": "code",
   "execution_count": 15,
   "metadata": {},
   "outputs": [],
   "source": [
    "#main run\n",
    "cols=[\"age\",\"salary\"]\n",
    "df[cols]=imputer.fit_transform(df[cols])"
   ]
  },
  {
   "cell_type": "code",
   "execution_count": 16,
   "metadata": {},
   "outputs": [
    {
     "data": {
      "text/html": [
       "<div>\n",
       "<style scoped>\n",
       "    .dataframe tbody tr th:only-of-type {\n",
       "        vertical-align: middle;\n",
       "    }\n",
       "\n",
       "    .dataframe tbody tr th {\n",
       "        vertical-align: top;\n",
       "    }\n",
       "\n",
       "    .dataframe thead th {\n",
       "        text-align: right;\n",
       "    }\n",
       "</style>\n",
       "<table border=\"1\" class=\"dataframe\">\n",
       "  <thead>\n",
       "    <tr style=\"text-align: right;\">\n",
       "      <th></th>\n",
       "      <th>age</th>\n",
       "      <th>salary</th>\n",
       "      <th>designation</th>\n",
       "    </tr>\n",
       "  </thead>\n",
       "  <tbody>\n",
       "    <tr>\n",
       "      <th>0</th>\n",
       "      <td>23.000000</td>\n",
       "      <td>20000.000000</td>\n",
       "      <td>manager</td>\n",
       "    </tr>\n",
       "    <tr>\n",
       "      <th>1</th>\n",
       "      <td>21.000000</td>\n",
       "      <td>23000.000000</td>\n",
       "      <td>manager</td>\n",
       "    </tr>\n",
       "    <tr>\n",
       "      <th>2</th>\n",
       "      <td>22.000000</td>\n",
       "      <td>32000.000000</td>\n",
       "      <td>region manager</td>\n",
       "    </tr>\n",
       "    <tr>\n",
       "      <th>3</th>\n",
       "      <td>22.000000</td>\n",
       "      <td>3333.000000</td>\n",
       "      <td>NaN</td>\n",
       "    </tr>\n",
       "    <tr>\n",
       "      <th>4</th>\n",
       "      <td>23.000000</td>\n",
       "      <td>33000.000000</td>\n",
       "      <td>manager</td>\n",
       "    </tr>\n",
       "    <tr>\n",
       "      <th>5</th>\n",
       "      <td>23.000000</td>\n",
       "      <td>19714.142857</td>\n",
       "      <td>region manager</td>\n",
       "    </tr>\n",
       "    <tr>\n",
       "      <th>6</th>\n",
       "      <td>22.285714</td>\n",
       "      <td>23333.000000</td>\n",
       "      <td>manager</td>\n",
       "    </tr>\n",
       "    <tr>\n",
       "      <th>7</th>\n",
       "      <td>22.000000</td>\n",
       "      <td>3333.000000</td>\n",
       "      <td>director</td>\n",
       "    </tr>\n",
       "  </tbody>\n",
       "</table>\n",
       "</div>"
      ],
      "text/plain": [
       "         age        salary     designation\n",
       "0  23.000000  20000.000000         manager\n",
       "1  21.000000  23000.000000        manager \n",
       "2  22.000000  32000.000000  region manager\n",
       "3  22.000000   3333.000000             NaN\n",
       "4  23.000000  33000.000000         manager\n",
       "5  23.000000  19714.142857  region manager\n",
       "6  22.285714  23333.000000         manager\n",
       "7  22.000000   3333.000000        director"
      ]
     },
     "execution_count": 16,
     "metadata": {},
     "output_type": "execute_result"
    }
   ],
   "source": [
    "df"
   ]
  },
  {
   "cell_type": "markdown",
   "metadata": {},
   "source": [
    "if any colomn should be predictable and their is a missing value then we drop that data from the data\n",
    "\n",
    "*****\n",
    "df.ndim (shows the no of dimenstion if it is 1d or 2d)"
   ]
  },
  {
   "cell_type": "code",
   "execution_count": 17,
   "metadata": {},
   "outputs": [
    {
     "data": {
      "text/plain": [
       "manager           3\n",
       "region manager    2\n",
       "manager           1\n",
       "director          1\n",
       "Name: designation, dtype: int64"
      ]
     },
     "execution_count": 17,
     "metadata": {},
     "output_type": "execute_result"
    }
   ],
   "source": [
    "df['designation'].value_counts()"
   ]
  },
  {
   "cell_type": "code",
   "execution_count": 18,
   "metadata": {},
   "outputs": [],
   "source": [
    "imp2=SimpleImputer(strategy='most_frequent')\n",
    "#imp2.fit_transform(df['designation'])       #it will show error of 1d array we need 2d array"
   ]
  },
  {
   "cell_type": "code",
   "execution_count": 19,
   "metadata": {},
   "outputs": [
    {
     "data": {
      "text/html": [
       "<div>\n",
       "<style scoped>\n",
       "    .dataframe tbody tr th:only-of-type {\n",
       "        vertical-align: middle;\n",
       "    }\n",
       "\n",
       "    .dataframe tbody tr th {\n",
       "        vertical-align: top;\n",
       "    }\n",
       "\n",
       "    .dataframe thead th {\n",
       "        text-align: right;\n",
       "    }\n",
       "</style>\n",
       "<table border=\"1\" class=\"dataframe\">\n",
       "  <thead>\n",
       "    <tr style=\"text-align: right;\">\n",
       "      <th></th>\n",
       "      <th>age</th>\n",
       "      <th>salary</th>\n",
       "      <th>designation</th>\n",
       "    </tr>\n",
       "  </thead>\n",
       "  <tbody>\n",
       "    <tr>\n",
       "      <th>0</th>\n",
       "      <td>23.000000</td>\n",
       "      <td>20000.000000</td>\n",
       "      <td>manager</td>\n",
       "    </tr>\n",
       "    <tr>\n",
       "      <th>1</th>\n",
       "      <td>21.000000</td>\n",
       "      <td>23000.000000</td>\n",
       "      <td>manager</td>\n",
       "    </tr>\n",
       "    <tr>\n",
       "      <th>2</th>\n",
       "      <td>22.000000</td>\n",
       "      <td>32000.000000</td>\n",
       "      <td>region manager</td>\n",
       "    </tr>\n",
       "    <tr>\n",
       "      <th>3</th>\n",
       "      <td>22.000000</td>\n",
       "      <td>3333.000000</td>\n",
       "      <td>manager</td>\n",
       "    </tr>\n",
       "    <tr>\n",
       "      <th>4</th>\n",
       "      <td>23.000000</td>\n",
       "      <td>33000.000000</td>\n",
       "      <td>manager</td>\n",
       "    </tr>\n",
       "    <tr>\n",
       "      <th>5</th>\n",
       "      <td>23.000000</td>\n",
       "      <td>19714.142857</td>\n",
       "      <td>region manager</td>\n",
       "    </tr>\n",
       "    <tr>\n",
       "      <th>6</th>\n",
       "      <td>22.285714</td>\n",
       "      <td>23333.000000</td>\n",
       "      <td>manager</td>\n",
       "    </tr>\n",
       "    <tr>\n",
       "      <th>7</th>\n",
       "      <td>22.000000</td>\n",
       "      <td>3333.000000</td>\n",
       "      <td>director</td>\n",
       "    </tr>\n",
       "  </tbody>\n",
       "</table>\n",
       "</div>"
      ],
      "text/plain": [
       "         age        salary     designation\n",
       "0  23.000000  20000.000000         manager\n",
       "1  21.000000  23000.000000        manager \n",
       "2  22.000000  32000.000000  region manager\n",
       "3  22.000000   3333.000000         manager\n",
       "4  23.000000  33000.000000         manager\n",
       "5  23.000000  19714.142857  region manager\n",
       "6  22.285714  23333.000000         manager\n",
       "7  22.000000   3333.000000        director"
      ]
     },
     "execution_count": 19,
     "metadata": {},
     "output_type": "execute_result"
    }
   ],
   "source": [
    "df['designation']=imp2.fit_transform(df[['designation']])#now we solved the error and make 2d array by dataframe concept with two brackets\n",
    "df"
   ]
  },
  {
   "cell_type": "markdown",
   "metadata": {},
   "source": [
    "add a column of male female values"
   ]
  },
  {
   "cell_type": "code",
   "execution_count": 20,
   "metadata": {},
   "outputs": [],
   "source": [
    "gender=['male','female']*4"
   ]
  },
  {
   "cell_type": "code",
   "execution_count": 21,
   "metadata": {},
   "outputs": [
    {
     "data": {
      "text/html": [
       "<div>\n",
       "<style scoped>\n",
       "    .dataframe tbody tr th:only-of-type {\n",
       "        vertical-align: middle;\n",
       "    }\n",
       "\n",
       "    .dataframe tbody tr th {\n",
       "        vertical-align: top;\n",
       "    }\n",
       "\n",
       "    .dataframe thead th {\n",
       "        text-align: right;\n",
       "    }\n",
       "</style>\n",
       "<table border=\"1\" class=\"dataframe\">\n",
       "  <thead>\n",
       "    <tr style=\"text-align: right;\">\n",
       "      <th></th>\n",
       "      <th>age</th>\n",
       "      <th>salary</th>\n",
       "      <th>designation</th>\n",
       "      <th>gender</th>\n",
       "    </tr>\n",
       "  </thead>\n",
       "  <tbody>\n",
       "    <tr>\n",
       "      <th>0</th>\n",
       "      <td>23.000000</td>\n",
       "      <td>20000.000000</td>\n",
       "      <td>manager</td>\n",
       "      <td>male</td>\n",
       "    </tr>\n",
       "    <tr>\n",
       "      <th>1</th>\n",
       "      <td>21.000000</td>\n",
       "      <td>23000.000000</td>\n",
       "      <td>manager</td>\n",
       "      <td>female</td>\n",
       "    </tr>\n",
       "    <tr>\n",
       "      <th>2</th>\n",
       "      <td>22.000000</td>\n",
       "      <td>32000.000000</td>\n",
       "      <td>region manager</td>\n",
       "      <td>male</td>\n",
       "    </tr>\n",
       "    <tr>\n",
       "      <th>3</th>\n",
       "      <td>22.000000</td>\n",
       "      <td>3333.000000</td>\n",
       "      <td>manager</td>\n",
       "      <td>female</td>\n",
       "    </tr>\n",
       "    <tr>\n",
       "      <th>4</th>\n",
       "      <td>23.000000</td>\n",
       "      <td>33000.000000</td>\n",
       "      <td>manager</td>\n",
       "      <td>male</td>\n",
       "    </tr>\n",
       "    <tr>\n",
       "      <th>5</th>\n",
       "      <td>23.000000</td>\n",
       "      <td>19714.142857</td>\n",
       "      <td>region manager</td>\n",
       "      <td>female</td>\n",
       "    </tr>\n",
       "    <tr>\n",
       "      <th>6</th>\n",
       "      <td>22.285714</td>\n",
       "      <td>23333.000000</td>\n",
       "      <td>manager</td>\n",
       "      <td>male</td>\n",
       "    </tr>\n",
       "    <tr>\n",
       "      <th>7</th>\n",
       "      <td>22.000000</td>\n",
       "      <td>3333.000000</td>\n",
       "      <td>director</td>\n",
       "      <td>female</td>\n",
       "    </tr>\n",
       "  </tbody>\n",
       "</table>\n",
       "</div>"
      ],
      "text/plain": [
       "         age        salary     designation  gender\n",
       "0  23.000000  20000.000000         manager    male\n",
       "1  21.000000  23000.000000        manager   female\n",
       "2  22.000000  32000.000000  region manager    male\n",
       "3  22.000000   3333.000000         manager  female\n",
       "4  23.000000  33000.000000         manager    male\n",
       "5  23.000000  19714.142857  region manager  female\n",
       "6  22.285714  23333.000000         manager    male\n",
       "7  22.000000   3333.000000        director  female"
      ]
     },
     "execution_count": 21,
     "metadata": {},
     "output_type": "execute_result"
    }
   ],
   "source": [
    "df['gender']=gender\n",
    "df"
   ]
  },
  {
   "cell_type": "markdown",
   "metadata": {},
   "source": [
    "RENAME A column"
   ]
  },
  {
   "cell_type": "code",
   "execution_count": 22,
   "metadata": {},
   "outputs": [
    {
     "data": {
      "text/html": [
       "<div>\n",
       "<style scoped>\n",
       "    .dataframe tbody tr th:only-of-type {\n",
       "        vertical-align: middle;\n",
       "    }\n",
       "\n",
       "    .dataframe tbody tr th {\n",
       "        vertical-align: top;\n",
       "    }\n",
       "\n",
       "    .dataframe thead th {\n",
       "        text-align: right;\n",
       "    }\n",
       "</style>\n",
       "<table border=\"1\" class=\"dataframe\">\n",
       "  <thead>\n",
       "    <tr style=\"text-align: right;\">\n",
       "      <th></th>\n",
       "      <th>age</th>\n",
       "      <th>pay</th>\n",
       "      <th>designation</th>\n",
       "      <th>gender</th>\n",
       "    </tr>\n",
       "  </thead>\n",
       "  <tbody>\n",
       "    <tr>\n",
       "      <th>0</th>\n",
       "      <td>23.000000</td>\n",
       "      <td>20000.000000</td>\n",
       "      <td>manager</td>\n",
       "      <td>male</td>\n",
       "    </tr>\n",
       "    <tr>\n",
       "      <th>1</th>\n",
       "      <td>21.000000</td>\n",
       "      <td>23000.000000</td>\n",
       "      <td>manager</td>\n",
       "      <td>female</td>\n",
       "    </tr>\n",
       "    <tr>\n",
       "      <th>2</th>\n",
       "      <td>22.000000</td>\n",
       "      <td>32000.000000</td>\n",
       "      <td>region manager</td>\n",
       "      <td>male</td>\n",
       "    </tr>\n",
       "    <tr>\n",
       "      <th>3</th>\n",
       "      <td>22.000000</td>\n",
       "      <td>3333.000000</td>\n",
       "      <td>manager</td>\n",
       "      <td>female</td>\n",
       "    </tr>\n",
       "    <tr>\n",
       "      <th>4</th>\n",
       "      <td>23.000000</td>\n",
       "      <td>33000.000000</td>\n",
       "      <td>manager</td>\n",
       "      <td>male</td>\n",
       "    </tr>\n",
       "    <tr>\n",
       "      <th>5</th>\n",
       "      <td>23.000000</td>\n",
       "      <td>19714.142857</td>\n",
       "      <td>region manager</td>\n",
       "      <td>female</td>\n",
       "    </tr>\n",
       "    <tr>\n",
       "      <th>6</th>\n",
       "      <td>22.285714</td>\n",
       "      <td>23333.000000</td>\n",
       "      <td>manager</td>\n",
       "      <td>male</td>\n",
       "    </tr>\n",
       "    <tr>\n",
       "      <th>7</th>\n",
       "      <td>22.000000</td>\n",
       "      <td>3333.000000</td>\n",
       "      <td>director</td>\n",
       "      <td>female</td>\n",
       "    </tr>\n",
       "  </tbody>\n",
       "</table>\n",
       "</div>"
      ],
      "text/plain": [
       "         age           pay     designation  gender\n",
       "0  23.000000  20000.000000         manager    male\n",
       "1  21.000000  23000.000000        manager   female\n",
       "2  22.000000  32000.000000  region manager    male\n",
       "3  22.000000   3333.000000         manager  female\n",
       "4  23.000000  33000.000000         manager    male\n",
       "5  23.000000  19714.142857  region manager  female\n",
       "6  22.285714  23333.000000         manager    male\n",
       "7  22.000000   3333.000000        director  female"
      ]
     },
     "execution_count": 22,
     "metadata": {},
     "output_type": "execute_result"
    }
   ],
   "source": [
    "df.rename({'salary':'pay'},axis=1,inplace=True)\n",
    "df\n"
   ]
  },
  {
   "cell_type": "markdown",
   "metadata": {},
   "source": [
    "adding row"
   ]
  },
  {
   "cell_type": "code",
   "execution_count": 23,
   "metadata": {},
   "outputs": [
    {
     "data": {
      "text/plain": [
       "age               23.0\n",
       "pay            20000.0\n",
       "designation    manager\n",
       "gender            male\n",
       "Name: 0, dtype: object"
      ]
     },
     "execution_count": 23,
     "metadata": {},
     "output_type": "execute_result"
    }
   ],
   "source": [
    "df.loc[0]"
   ]
  },
  {
   "cell_type": "code",
   "execution_count": 24,
   "metadata": {},
   "outputs": [],
   "source": [
    "row=[{\n",
    "    'age':19,\n",
    "    'pay':33333,\n",
    "    'designation':'manager',\n",
    "    'gender':'male'\n",
    "},\n",
    "{\n",
    "    'age':22,\n",
    "    'pay':45333,\n",
    "    'designation':'manager',\n",
    "    'gender':'female'\n",
    "}]\n"
   ]
  },
  {
   "cell_type": "code",
   "execution_count": 25,
   "metadata": {},
   "outputs": [
    {
     "name": "stderr",
     "output_type": "stream",
     "text": [
      "C:\\Users\\ASUS\\AppData\\Local\\Temp\\ipykernel_13248\\530968075.py:5: FutureWarning: The frame.append method is deprecated and will be removed from pandas in a future version. Use pandas.concat instead.\n",
      "  df=df.append(row,ignore_index=True)\n"
     ]
    },
    {
     "data": {
      "text/html": [
       "<div>\n",
       "<style scoped>\n",
       "    .dataframe tbody tr th:only-of-type {\n",
       "        vertical-align: middle;\n",
       "    }\n",
       "\n",
       "    .dataframe tbody tr th {\n",
       "        vertical-align: top;\n",
       "    }\n",
       "\n",
       "    .dataframe thead th {\n",
       "        text-align: right;\n",
       "    }\n",
       "</style>\n",
       "<table border=\"1\" class=\"dataframe\">\n",
       "  <thead>\n",
       "    <tr style=\"text-align: right;\">\n",
       "      <th></th>\n",
       "      <th>age</th>\n",
       "      <th>pay</th>\n",
       "      <th>designation</th>\n",
       "      <th>gender</th>\n",
       "    </tr>\n",
       "  </thead>\n",
       "  <tbody>\n",
       "    <tr>\n",
       "      <th>0</th>\n",
       "      <td>23.000000</td>\n",
       "      <td>20000.000000</td>\n",
       "      <td>manager</td>\n",
       "      <td>male</td>\n",
       "    </tr>\n",
       "    <tr>\n",
       "      <th>1</th>\n",
       "      <td>21.000000</td>\n",
       "      <td>23000.000000</td>\n",
       "      <td>manager</td>\n",
       "      <td>female</td>\n",
       "    </tr>\n",
       "    <tr>\n",
       "      <th>2</th>\n",
       "      <td>22.000000</td>\n",
       "      <td>32000.000000</td>\n",
       "      <td>region manager</td>\n",
       "      <td>male</td>\n",
       "    </tr>\n",
       "    <tr>\n",
       "      <th>3</th>\n",
       "      <td>22.000000</td>\n",
       "      <td>3333.000000</td>\n",
       "      <td>manager</td>\n",
       "      <td>female</td>\n",
       "    </tr>\n",
       "    <tr>\n",
       "      <th>4</th>\n",
       "      <td>23.000000</td>\n",
       "      <td>33000.000000</td>\n",
       "      <td>manager</td>\n",
       "      <td>male</td>\n",
       "    </tr>\n",
       "    <tr>\n",
       "      <th>5</th>\n",
       "      <td>23.000000</td>\n",
       "      <td>19714.142857</td>\n",
       "      <td>region manager</td>\n",
       "      <td>female</td>\n",
       "    </tr>\n",
       "    <tr>\n",
       "      <th>6</th>\n",
       "      <td>22.285714</td>\n",
       "      <td>23333.000000</td>\n",
       "      <td>manager</td>\n",
       "      <td>male</td>\n",
       "    </tr>\n",
       "    <tr>\n",
       "      <th>7</th>\n",
       "      <td>22.000000</td>\n",
       "      <td>3333.000000</td>\n",
       "      <td>director</td>\n",
       "      <td>female</td>\n",
       "    </tr>\n",
       "    <tr>\n",
       "      <th>8</th>\n",
       "      <td>19.000000</td>\n",
       "      <td>33333.000000</td>\n",
       "      <td>manager</td>\n",
       "      <td>male</td>\n",
       "    </tr>\n",
       "    <tr>\n",
       "      <th>9</th>\n",
       "      <td>22.000000</td>\n",
       "      <td>45333.000000</td>\n",
       "      <td>manager</td>\n",
       "      <td>female</td>\n",
       "    </tr>\n",
       "  </tbody>\n",
       "</table>\n",
       "</div>"
      ],
      "text/plain": [
       "         age           pay     designation  gender\n",
       "0  23.000000  20000.000000         manager    male\n",
       "1  21.000000  23000.000000        manager   female\n",
       "2  22.000000  32000.000000  region manager    male\n",
       "3  22.000000   3333.000000         manager  female\n",
       "4  23.000000  33000.000000         manager    male\n",
       "5  23.000000  19714.142857  region manager  female\n",
       "6  22.285714  23333.000000         manager    male\n",
       "7  22.000000   3333.000000        director  female\n",
       "8  19.000000  33333.000000         manager    male\n",
       "9  22.000000  45333.000000         manager  female"
      ]
     },
     "execution_count": 25,
     "metadata": {},
     "output_type": "execute_result"
    }
   ],
   "source": [
    "#if we use append the row then the data will add inproper way df.append(row)\n",
    "\n",
    "\n",
    "#second way\n",
    "df=df.append(row,ignore_index=True)\n",
    "df\n"
   ]
  },
  {
   "cell_type": "markdown",
   "metadata": {},
   "source": [
    "DATA SHOULD BE NUMERICAL for scikitlearn use\n",
    "\n",
    "[ Techniques to convert the data into numerical format ]\n",
    "1.) label encoder (data to numerical value)\n",
    "2.) onehotencoder(dummy variable) , for same\n",
    "\n",
    "\n",
    "#when we have binary values menas  two values then we use label encoder only\n"
   ]
  },
  {
   "cell_type": "code",
   "execution_count": 26,
   "metadata": {},
   "outputs": [
    {
     "data": {
      "text/plain": [
       "male      5\n",
       "female    5\n",
       "Name: gender, dtype: int64"
      ]
     },
     "execution_count": 26,
     "metadata": {},
     "output_type": "execute_result"
    }
   ],
   "source": [
    "df['gender'].value_counts()\n"
   ]
  },
  {
   "cell_type": "code",
   "execution_count": 27,
   "metadata": {},
   "outputs": [],
   "source": [
    "from sklearn.preprocessing import LabelEncoder"
   ]
  },
  {
   "cell_type": "code",
   "execution_count": 28,
   "metadata": {},
   "outputs": [
    {
     "data": {
      "text/plain": [
       "LabelEncoder()"
      ]
     },
     "execution_count": 28,
     "metadata": {},
     "output_type": "execute_result"
    }
   ],
   "source": [
    "#step 1 (creating object)\n",
    "gender_enc=LabelEncoder()\n",
    "gender_enc.fit(df['gender'])"
   ]
  },
  {
   "cell_type": "code",
   "execution_count": 29,
   "metadata": {},
   "outputs": [
    {
     "data": {
      "text/html": [
       "<div>\n",
       "<style scoped>\n",
       "    .dataframe tbody tr th:only-of-type {\n",
       "        vertical-align: middle;\n",
       "    }\n",
       "\n",
       "    .dataframe tbody tr th {\n",
       "        vertical-align: top;\n",
       "    }\n",
       "\n",
       "    .dataframe thead th {\n",
       "        text-align: right;\n",
       "    }\n",
       "</style>\n",
       "<table border=\"1\" class=\"dataframe\">\n",
       "  <thead>\n",
       "    <tr style=\"text-align: right;\">\n",
       "      <th></th>\n",
       "      <th>age</th>\n",
       "      <th>pay</th>\n",
       "      <th>designation</th>\n",
       "      <th>gender</th>\n",
       "    </tr>\n",
       "  </thead>\n",
       "  <tbody>\n",
       "    <tr>\n",
       "      <th>0</th>\n",
       "      <td>23.000000</td>\n",
       "      <td>20000.000000</td>\n",
       "      <td>manager</td>\n",
       "      <td>1</td>\n",
       "    </tr>\n",
       "    <tr>\n",
       "      <th>1</th>\n",
       "      <td>21.000000</td>\n",
       "      <td>23000.000000</td>\n",
       "      <td>manager</td>\n",
       "      <td>0</td>\n",
       "    </tr>\n",
       "    <tr>\n",
       "      <th>2</th>\n",
       "      <td>22.000000</td>\n",
       "      <td>32000.000000</td>\n",
       "      <td>region manager</td>\n",
       "      <td>1</td>\n",
       "    </tr>\n",
       "    <tr>\n",
       "      <th>3</th>\n",
       "      <td>22.000000</td>\n",
       "      <td>3333.000000</td>\n",
       "      <td>manager</td>\n",
       "      <td>0</td>\n",
       "    </tr>\n",
       "    <tr>\n",
       "      <th>4</th>\n",
       "      <td>23.000000</td>\n",
       "      <td>33000.000000</td>\n",
       "      <td>manager</td>\n",
       "      <td>1</td>\n",
       "    </tr>\n",
       "    <tr>\n",
       "      <th>5</th>\n",
       "      <td>23.000000</td>\n",
       "      <td>19714.142857</td>\n",
       "      <td>region manager</td>\n",
       "      <td>0</td>\n",
       "    </tr>\n",
       "    <tr>\n",
       "      <th>6</th>\n",
       "      <td>22.285714</td>\n",
       "      <td>23333.000000</td>\n",
       "      <td>manager</td>\n",
       "      <td>1</td>\n",
       "    </tr>\n",
       "    <tr>\n",
       "      <th>7</th>\n",
       "      <td>22.000000</td>\n",
       "      <td>3333.000000</td>\n",
       "      <td>director</td>\n",
       "      <td>0</td>\n",
       "    </tr>\n",
       "    <tr>\n",
       "      <th>8</th>\n",
       "      <td>19.000000</td>\n",
       "      <td>33333.000000</td>\n",
       "      <td>manager</td>\n",
       "      <td>1</td>\n",
       "    </tr>\n",
       "    <tr>\n",
       "      <th>9</th>\n",
       "      <td>22.000000</td>\n",
       "      <td>45333.000000</td>\n",
       "      <td>manager</td>\n",
       "      <td>0</td>\n",
       "    </tr>\n",
       "  </tbody>\n",
       "</table>\n",
       "</div>"
      ],
      "text/plain": [
       "         age           pay     designation  gender\n",
       "0  23.000000  20000.000000         manager       1\n",
       "1  21.000000  23000.000000        manager        0\n",
       "2  22.000000  32000.000000  region manager       1\n",
       "3  22.000000   3333.000000         manager       0\n",
       "4  23.000000  33000.000000         manager       1\n",
       "5  23.000000  19714.142857  region manager       0\n",
       "6  22.285714  23333.000000         manager       1\n",
       "7  22.000000   3333.000000        director       0\n",
       "8  19.000000  33333.000000         manager       1\n",
       "9  22.000000  45333.000000         manager       0"
      ]
     },
     "execution_count": 29,
     "metadata": {},
     "output_type": "execute_result"
    }
   ],
   "source": [
    "#second step transformation\n",
    "\n",
    "df['gender']=gender_enc.transform(df['gender'])\n",
    "df"
   ]
  },
  {
   "cell_type": "code",
   "execution_count": 30,
   "metadata": {},
   "outputs": [
    {
     "data": {
      "text/plain": [
       "array(['female', 'male'], dtype=object)"
      ]
     },
     "execution_count": 30,
     "metadata": {},
     "output_type": "execute_result"
    }
   ],
   "source": [
    "gender_enc.classes_"
   ]
  },
  {
   "cell_type": "code",
   "execution_count": 31,
   "metadata": {},
   "outputs": [
    {
     "data": {
      "text/plain": [
       "array(['male', 'female'], dtype=object)"
      ]
     },
     "execution_count": 31,
     "metadata": {},
     "output_type": "execute_result"
    }
   ],
   "source": [
    "gender_enc.inverse_transform([1,0])"
   ]
  },
  {
   "cell_type": "markdown",
   "metadata": {},
   "source": [
    "\n",
    "if our data have multiple values then we use ONEHOTENCODER"
   ]
  },
  {
   "cell_type": "code",
   "execution_count": 32,
   "metadata": {},
   "outputs": [
    {
     "data": {
      "text/plain": [
       "manager           6\n",
       "region manager    2\n",
       "manager           1\n",
       "director          1\n",
       "Name: designation, dtype: int64"
      ]
     },
     "execution_count": 32,
     "metadata": {},
     "output_type": "execute_result"
    }
   ],
   "source": [
    "df['designation'].value_counts()"
   ]
  },
  {
   "cell_type": "code",
   "execution_count": 33,
   "metadata": {},
   "outputs": [
    {
     "data": {
      "text/plain": [
       "array(['manager', 'manager ', 'region manager', 'director'], dtype=object)"
      ]
     },
     "execution_count": 33,
     "metadata": {},
     "output_type": "execute_result"
    }
   ],
   "source": [
    "df.designation.unique()\n",
    "#we have multiple unique value in data so we use onehotencoder"
   ]
  },
  {
   "cell_type": "code",
   "execution_count": 34,
   "metadata": {},
   "outputs": [
    {
     "data": {
      "text/plain": [
       "4"
      ]
     },
     "execution_count": 34,
     "metadata": {},
     "output_type": "execute_result"
    }
   ],
   "source": [
    "df.designation.nunique() #no of unique values"
   ]
  },
  {
   "cell_type": "markdown",
   "metadata": {},
   "source": [
    "ONEHOTENCODER(dummy variable creation) hactic\n",
    "\n",
    "assume we have two col and 10 rows\n",
    "STATE                   AMOUNT\n",
    "-------------------------------\n",
    "newyork                 2324\n",
    "sanfransisco            123\n",
    "newyork                 45\n",
    "sanfransisco            6 \n",
    "newyork                 34\n",
    "sanfransisco            67\n",
    "sanfransisco            324\n",
    "los angelas             3245\n",
    "newyork                 222\n",
    "los angelas             234\n",
    "\n",
    "total unique value: 3\n",
    "when we apply onehotencoder in state col then it make 3 diff col bcs here we have 3 unique values\n",
    "\n",
    "---------------------------------------(these var are dummy variables)\n",
    "los angelas         newyork         sanfransisco\n",
    "-------------------------------------------------\n",
    "0                   1               0\n",
    "0                   0               1\n",
    "0                   1               0\n",
    "0                   0               1\n",
    "0                   1               0\n",
    "0                   0               1\n",
    "0                   0               1\n",
    "1                   0               0\n",
    "0                   1               0\n",
    "1                   0               0\n",
    "(IT IS DUMMY VARIABLE CREATION OR HOT ENCODING)\n"
   ]
  },
  {
   "cell_type": "code",
   "execution_count": 35,
   "metadata": {},
   "outputs": [],
   "source": [
    "from sklearn.preprocessing import OneHotEncoder"
   ]
  },
  {
   "cell_type": "code",
   "execution_count": 36,
   "metadata": {},
   "outputs": [
    {
     "data": {
      "text/plain": [
       "OneHotEncoder(drop='first')"
      ]
     },
     "execution_count": 36,
     "metadata": {},
     "output_type": "execute_result"
    }
   ],
   "source": [
    "desig_enc=OneHotEncoder(drop='first')\n",
    "#we need to two dimensional data\n",
    "desig_enc.fit(df[['designation']]) #it creates an object for onehotencoder"
   ]
  },
  {
   "cell_type": "code",
   "execution_count": 37,
   "metadata": {},
   "outputs": [],
   "source": [
    "designation_dummies=desig_enc.transform(df[['designation']]).toarray() \n",
    "#toarray for converting it numpy array for display\n",
    "#if it shows array in result then it is numpy matrix"
   ]
  },
  {
   "cell_type": "markdown",
   "metadata": {},
   "source": [
    "now we need to concatinate dummy variables with orignal data\n",
    "numpy matrix\n",
    "---------\n",
    "-   -   -\n",
    "-   -   -\n",
    "-   -   -\n",
    "---------\n",
    "    +\n",
    "data frame\n",
    "---------\n",
    "-   -   -\n",
    "-   -   -\n",
    "-   -   -\n",
    "---------\n",
    "\n",
    "\n",
    "to do concatinate we do typeconversion(to data frame)"
   ]
  },
  {
   "cell_type": "code",
   "execution_count": 38,
   "metadata": {},
   "outputs": [],
   "source": [
    "df.drop(columns=['designation'],axis=1,inplace=True)"
   ]
  },
  {
   "cell_type": "code",
   "execution_count": 39,
   "metadata": {},
   "outputs": [
    {
     "data": {
      "text/plain": [
       "array([[2.30000000e+01, 2.00000000e+04, 1.00000000e+00],\n",
       "       [2.10000000e+01, 2.30000000e+04, 0.00000000e+00],\n",
       "       [2.20000000e+01, 3.20000000e+04, 1.00000000e+00],\n",
       "       [2.20000000e+01, 3.33300000e+03, 0.00000000e+00],\n",
       "       [2.30000000e+01, 3.30000000e+04, 1.00000000e+00],\n",
       "       [2.30000000e+01, 1.97141429e+04, 0.00000000e+00],\n",
       "       [2.22857143e+01, 2.33330000e+04, 1.00000000e+00],\n",
       "       [2.20000000e+01, 3.33300000e+03, 0.00000000e+00],\n",
       "       [1.90000000e+01, 3.33330000e+04, 1.00000000e+00],\n",
       "       [2.20000000e+01, 4.53330000e+04, 0.00000000e+00]])"
      ]
     },
     "execution_count": 39,
     "metadata": {},
     "output_type": "execute_result"
    }
   ],
   "source": [
    "df.values"
   ]
  },
  {
   "cell_type": "code",
   "execution_count": 40,
   "metadata": {},
   "outputs": [],
   "source": [
    "#now we add two numpy matrix\n",
    "import numpy as np"
   ]
  },
  {
   "cell_type": "markdown",
   "metadata": {},
   "source": [
    "FOR ADDING MATRIX:\n",
    "V STACK(NO OF COLUMN SHOULD BE SAME)\n",
    "H STACK(NO OF ROW SHOULD BE SAME)\n"
   ]
  },
  {
   "cell_type": "code",
   "execution_count": 41,
   "metadata": {},
   "outputs": [],
   "source": [
    "data=np.hstack((designation_dummies,df.values))"
   ]
  },
  {
   "cell_type": "code",
   "execution_count": 42,
   "metadata": {},
   "outputs": [
    {
     "data": {
      "text/plain": [
       "(10, 6)"
      ]
     },
     "execution_count": 42,
     "metadata": {},
     "output_type": "execute_result"
    }
   ],
   "source": [
    "data.shape"
   ]
  },
  {
   "cell_type": "markdown",
   "metadata": {},
   "source": [
    "NOW NUMPY MATRIX TO DATA FRAME(BEST WAY) TO CONCATINATE DF TO DF"
   ]
  },
  {
   "cell_type": "code",
   "execution_count": 43,
   "metadata": {},
   "outputs": [
    {
     "data": {
      "text/html": [
       "<div>\n",
       "<style scoped>\n",
       "    .dataframe tbody tr th:only-of-type {\n",
       "        vertical-align: middle;\n",
       "    }\n",
       "\n",
       "    .dataframe tbody tr th {\n",
       "        vertical-align: top;\n",
       "    }\n",
       "\n",
       "    .dataframe thead th {\n",
       "        text-align: right;\n",
       "    }\n",
       "</style>\n",
       "<table border=\"1\" class=\"dataframe\">\n",
       "  <thead>\n",
       "    <tr style=\"text-align: right;\">\n",
       "      <th></th>\n",
       "      <th>0</th>\n",
       "      <th>1</th>\n",
       "      <th>2</th>\n",
       "    </tr>\n",
       "  </thead>\n",
       "  <tbody>\n",
       "    <tr>\n",
       "      <th>0</th>\n",
       "      <td>1.0</td>\n",
       "      <td>0.0</td>\n",
       "      <td>0.0</td>\n",
       "    </tr>\n",
       "    <tr>\n",
       "      <th>1</th>\n",
       "      <td>0.0</td>\n",
       "      <td>1.0</td>\n",
       "      <td>0.0</td>\n",
       "    </tr>\n",
       "    <tr>\n",
       "      <th>2</th>\n",
       "      <td>0.0</td>\n",
       "      <td>0.0</td>\n",
       "      <td>1.0</td>\n",
       "    </tr>\n",
       "    <tr>\n",
       "      <th>3</th>\n",
       "      <td>1.0</td>\n",
       "      <td>0.0</td>\n",
       "      <td>0.0</td>\n",
       "    </tr>\n",
       "    <tr>\n",
       "      <th>4</th>\n",
       "      <td>1.0</td>\n",
       "      <td>0.0</td>\n",
       "      <td>0.0</td>\n",
       "    </tr>\n",
       "  </tbody>\n",
       "</table>\n",
       "</div>"
      ],
      "text/plain": [
       "     0    1    2\n",
       "0  1.0  0.0  0.0\n",
       "1  0.0  1.0  0.0\n",
       "2  0.0  0.0  1.0\n",
       "3  1.0  0.0  0.0\n",
       "4  1.0  0.0  0.0"
      ]
     },
     "execution_count": 43,
     "metadata": {},
     "output_type": "execute_result"
    }
   ],
   "source": [
    "desig_dummy_df=pd.DataFrame(designation_dummies)\n",
    "desig_dummy_df.head()"
   ]
  },
  {
   "cell_type": "code",
   "execution_count": 44,
   "metadata": {},
   "outputs": [],
   "source": [
    "data_df=pd.concat([desig_dummy_df,df],axis=1)"
   ]
  },
  {
   "cell_type": "code",
   "execution_count": 45,
   "metadata": {},
   "outputs": [
    {
     "data": {
      "text/html": [
       "<div>\n",
       "<style scoped>\n",
       "    .dataframe tbody tr th:only-of-type {\n",
       "        vertical-align: middle;\n",
       "    }\n",
       "\n",
       "    .dataframe tbody tr th {\n",
       "        vertical-align: top;\n",
       "    }\n",
       "\n",
       "    .dataframe thead th {\n",
       "        text-align: right;\n",
       "    }\n",
       "</style>\n",
       "<table border=\"1\" class=\"dataframe\">\n",
       "  <thead>\n",
       "    <tr style=\"text-align: right;\">\n",
       "      <th></th>\n",
       "      <th>0</th>\n",
       "      <th>1</th>\n",
       "      <th>2</th>\n",
       "      <th>age</th>\n",
       "      <th>pay</th>\n",
       "      <th>gender</th>\n",
       "    </tr>\n",
       "  </thead>\n",
       "  <tbody>\n",
       "    <tr>\n",
       "      <th>0</th>\n",
       "      <td>1.0</td>\n",
       "      <td>0.0</td>\n",
       "      <td>0.0</td>\n",
       "      <td>23.0</td>\n",
       "      <td>20000.0</td>\n",
       "      <td>1</td>\n",
       "    </tr>\n",
       "    <tr>\n",
       "      <th>1</th>\n",
       "      <td>0.0</td>\n",
       "      <td>1.0</td>\n",
       "      <td>0.0</td>\n",
       "      <td>21.0</td>\n",
       "      <td>23000.0</td>\n",
       "      <td>0</td>\n",
       "    </tr>\n",
       "    <tr>\n",
       "      <th>2</th>\n",
       "      <td>0.0</td>\n",
       "      <td>0.0</td>\n",
       "      <td>1.0</td>\n",
       "      <td>22.0</td>\n",
       "      <td>32000.0</td>\n",
       "      <td>1</td>\n",
       "    </tr>\n",
       "    <tr>\n",
       "      <th>3</th>\n",
       "      <td>1.0</td>\n",
       "      <td>0.0</td>\n",
       "      <td>0.0</td>\n",
       "      <td>22.0</td>\n",
       "      <td>3333.0</td>\n",
       "      <td>0</td>\n",
       "    </tr>\n",
       "    <tr>\n",
       "      <th>4</th>\n",
       "      <td>1.0</td>\n",
       "      <td>0.0</td>\n",
       "      <td>0.0</td>\n",
       "      <td>23.0</td>\n",
       "      <td>33000.0</td>\n",
       "      <td>1</td>\n",
       "    </tr>\n",
       "  </tbody>\n",
       "</table>\n",
       "</div>"
      ],
      "text/plain": [
       "     0    1    2   age      pay  gender\n",
       "0  1.0  0.0  0.0  23.0  20000.0       1\n",
       "1  0.0  1.0  0.0  21.0  23000.0       0\n",
       "2  0.0  0.0  1.0  22.0  32000.0       1\n",
       "3  1.0  0.0  0.0  22.0   3333.0       0\n",
       "4  1.0  0.0  0.0  23.0  33000.0       1"
      ]
     },
     "execution_count": 45,
     "metadata": {},
     "output_type": "execute_result"
    }
   ],
   "source": [
    "data_df.head() #now we have all numerical values "
   ]
  },
  {
   "cell_type": "markdown",
   "metadata": {},
   "source": [
    "we need to drop the first col for the ml algo for humanity"
   ]
  },
  {
   "cell_type": "markdown",
   "metadata": {},
   "source": [
    "SCALING THE DATA\n",
    "\n",
    "(ml algo should undersatnd all the col important)\n",
    "so we scale the column and give importance to all col\n",
    "\n",
    "TWO METHODS TO SCALE:\n",
    "1.) MINMAX SCALING\n",
    "2.) STANDARD SCALING\n"
   ]
  },
  {
   "cell_type": "code",
   "execution_count": 46,
   "metadata": {},
   "outputs": [],
   "source": [
    "a=np.array([23,45,23,65,43,22,112,2334])\n",
    "#lets reduce the data and every value should lie between 0 to 1\n",
    " "
   ]
  },
  {
   "cell_type": "code",
   "execution_count": 47,
   "metadata": {},
   "outputs": [
    {
     "data": {
      "text/plain": [
       "array([  23,   45,   23,   65,   43,   22,  112, 2334])"
      ]
     },
     "execution_count": 47,
     "metadata": {},
     "output_type": "execute_result"
    }
   ],
   "source": [
    "a"
   ]
  },
  {
   "cell_type": "code",
   "execution_count": 48,
   "metadata": {},
   "outputs": [
    {
     "data": {
      "text/plain": [
       "array([0.00985433, 0.01928021, 0.00985433, 0.02784919, 0.01842331,\n",
       "       0.00942588, 0.04798629, 1.        ])"
      ]
     },
     "execution_count": 48,
     "metadata": {},
     "output_type": "execute_result"
    }
   ],
   "source": [
    "a/a.max()"
   ]
  },
  {
   "cell_type": "markdown",
   "metadata": {},
   "source": [
    "now we use scaling concept of sklearn for minmax scaling and standard scaling\n"
   ]
  },
  {
   "cell_type": "code",
   "execution_count": 49,
   "metadata": {},
   "outputs": [],
   "source": [
    "from sklearn.preprocessing import StandardScaler, MinMaxScaler"
   ]
  },
  {
   "cell_type": "code",
   "execution_count": 50,
   "metadata": {},
   "outputs": [
    {
     "name": "stdout",
     "output_type": "stream",
     "text": [
      "[[1.         0.         0.         1.         0.39683333 1.        ]\n",
      " [0.         1.         0.         0.5        0.4682619  0.        ]\n",
      " [0.         0.         1.         0.75       0.68254762 1.        ]\n",
      " [1.         0.         0.         0.75       0.         0.        ]\n",
      " [1.         0.         0.         1.         0.70635714 1.        ]\n",
      " [0.         0.         1.         1.         0.39002721 0.        ]\n",
      " [1.         0.         0.         0.82142857 0.47619048 1.        ]\n",
      " [0.         0.         0.         0.75       0.         0.        ]\n",
      " [1.         0.         0.         0.         0.71428571 1.        ]\n",
      " [1.         0.         0.         0.75       1.         0.        ]]\n"
     ]
    },
    {
     "name": "stderr",
     "output_type": "stream",
     "text": [
      "C:\\Users\\ASUS\\miniconda3\\envs\\digi1\\lib\\site-packages\\sklearn\\utils\\validation.py:1688: FutureWarning: Feature names only support names that are all strings. Got feature names with dtypes: ['int', 'str']. An error will be raised in 1.2.\n",
      "  warnings.warn(\n",
      "C:\\Users\\ASUS\\miniconda3\\envs\\digi1\\lib\\site-packages\\sklearn\\utils\\validation.py:1688: FutureWarning: Feature names only support names that are all strings. Got feature names with dtypes: ['int', 'str']. An error will be raised in 1.2.\n",
      "  warnings.warn(\n"
     ]
    }
   ],
   "source": [
    "mxScaler=MinMaxScaler()\n",
    "mxScaler.fit(data_df)\n",
    "scaled_data=mxScaler.transform(data_df)\n",
    "print(scaled_data)"
   ]
  },
  {
   "cell_type": "code",
   "execution_count": 51,
   "metadata": {},
   "outputs": [
    {
     "name": "stdout",
     "output_type": "stream",
     "text": [
      "[[ 0.81649658 -0.33333333 -0.5         0.93860057 -0.2897882   1.        ]\n",
      " [-1.22474487  3.         -0.5        -0.81345383 -0.05081484 -1.        ]\n",
      " [-1.22474487 -0.33333333  2.          0.06257337  0.66610524  1.        ]\n",
      " [ 0.81649658 -0.33333333 -0.5         0.06257337 -1.61744454 -1.        ]\n",
      " [ 0.81649658 -0.33333333 -0.5         0.93860057  0.74576303  1.        ]\n",
      " [-1.22474487 -0.33333333  2.          0.93860057 -0.31255895 -1.        ]\n",
      " [ 0.81649658 -0.33333333 -0.5         0.31286686 -0.0242888   1.        ]\n",
      " [-1.22474487 -0.33333333 -0.5         0.06257337 -1.61744454 -1.        ]\n",
      " [ 0.81649658 -0.33333333 -0.5        -2.56550822  0.77228907  1.        ]\n",
      " [ 0.81649658 -0.33333333 -0.5         0.06257337  1.72818252 -1.        ]]\n"
     ]
    },
    {
     "name": "stderr",
     "output_type": "stream",
     "text": [
      "C:\\Users\\ASUS\\miniconda3\\envs\\digi1\\lib\\site-packages\\sklearn\\utils\\validation.py:1688: FutureWarning: Feature names only support names that are all strings. Got feature names with dtypes: ['int', 'str']. An error will be raised in 1.2.\n",
      "  warnings.warn(\n",
      "C:\\Users\\ASUS\\miniconda3\\envs\\digi1\\lib\\site-packages\\sklearn\\utils\\validation.py:1688: FutureWarning: Feature names only support names that are all strings. Got feature names with dtypes: ['int', 'str']. An error will be raised in 1.2.\n",
      "  warnings.warn(\n"
     ]
    }
   ],
   "source": [
    "#this is used in coding\n",
    "stdScaler=StandardScaler()\n",
    "stdScaler.fit(data_df)\n",
    "scaled_data=stdScaler.transform(data_df)\n",
    "print(scaled_data)"
   ]
  },
  {
   "cell_type": "code",
   "execution_count": 52,
   "metadata": {},
   "outputs": [
    {
     "name": "stdout",
     "output_type": "stream",
     "text": [
      "[[ 0.81649658 -0.33333333 -0.5         0.93860057 -0.2897882   1.        ]\n",
      " [-1.22474487  3.         -0.5        -0.81345383 -0.05081484 -1.        ]\n",
      " [-1.22474487 -0.33333333  2.          0.06257337  0.66610524  1.        ]\n",
      " [ 0.81649658 -0.33333333 -0.5         0.06257337 -1.61744454 -1.        ]\n",
      " [ 0.81649658 -0.33333333 -0.5         0.93860057  0.74576303  1.        ]\n",
      " [-1.22474487 -0.33333333  2.          0.93860057 -0.31255895 -1.        ]\n",
      " [ 0.81649658 -0.33333333 -0.5         0.31286686 -0.0242888   1.        ]\n",
      " [-1.22474487 -0.33333333 -0.5         0.06257337 -1.61744454 -1.        ]\n",
      " [ 0.81649658 -0.33333333 -0.5        -2.56550822  0.77228907  1.        ]\n",
      " [ 0.81649658 -0.33333333 -0.5         0.06257337  1.72818252 -1.        ]]\n"
     ]
    }
   ],
   "source": [
    "print(scaled_data)"
   ]
  },
  {
   "cell_type": "markdown",
   "metadata": {},
   "source": [
    "-----------------SUPERVISED ML ALGO-------------\n",
    "\n",
    "---------------------------\n",
    "- AGE  - BRAND    - PRICE -\n",
    "- 3    - balentine- $200  -\n",
    "- 12   - sapphire - $600  -\n",
    "- 50   - sapphire -   ?   -\n",
    "---------------------------\n",
    "\n",
    "->price is the predictable col(response)output or label\n",
    "->age and brand is the input col(feaures)independent col\n",
    "\n",
    "if our data has input and output data both availble then we can perform \n",
    "SUPERVISED LEARNING.\n",
    "\n",
    "INPUT COL  -> X\n",
    "OUTPUT COL -> Y\n",
    "\n",
    "NOTE: IF OUR DATA DONT HAVE PREDICTABLE COL THEN IT IS UNSUPERVISED DATA.\n",
    "\n",
    "\n",
    "                            SUPERVISED ML ALGO\n",
    "If prediciton column contains changing numerical values: REGRESSION\n",
    "If prediciton column contains similar categorical values(male/female, 0/1): CLASSIFICATION\n",
    "\n",
    "\n",
    "\n",
    ":::::FIRST WE LEARN **REGRESSION:::::\n",
    "\n",
    "SUPREVISED REGRESSION ALGORITHMS->\n",
    "\n",
    "1.) LINEAR REGRESSION\n",
    "    *simple linear regression(when we have simple data less column)\n",
    "    *multiple linear regression(if input colmns are big)\n",
    "    *polynomial linear regression(when parabolic data or expnential data)\n",
    "\n",
    "2.) DECISION TREE ALGOS (Many trees)\n",
    "    *decision tree regression\n",
    "    *decision tree classification\n",
    "\n",
    "3.) RANDOM FOREST ALGO(ensemble)\n",
    "\n",
    "4.) SUPPORT VECTOR MACHINE (SVM)\n",
    "\n",
    "5.)XGboost ALGO (HOW REGRESSION AND CLASSIFICATION WORKS)\n"
   ]
  },
  {
   "cell_type": "code",
   "execution_count": null,
   "metadata": {},
   "outputs": [],
   "source": []
  }
 ],
 "metadata": {
  "interpreter": {
   "hash": "7f26aba370bbbf2d8f2e3fd699c899a8fabe0bbff00ba38ad8e8f1b69fb2214b"
  },
  "kernelspec": {
   "display_name": "Python 3.10.2 64-bit ('digi': conda)",
   "language": "python",
   "name": "python3"
  },
  "language_info": {
   "codemirror_mode": {
    "name": "ipython",
    "version": 3
   },
   "file_extension": ".py",
   "mimetype": "text/x-python",
   "name": "python",
   "nbconvert_exporter": "python",
   "pygments_lexer": "ipython3",
   "version": "3.9.9"
  },
  "orig_nbformat": 4
 },
 "nbformat": 4,
 "nbformat_minor": 2
}
